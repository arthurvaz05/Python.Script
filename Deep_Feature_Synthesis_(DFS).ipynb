{
  "nbformat": 4,
  "nbformat_minor": 0,
  "metadata": {
    "colab": {
      "name": "Deep Feature Synthesis (DFS).ipynb",
      "provenance": [],
      "authorship_tag": "ABX9TyNt/8T/1N6RssxEhi7xXyo6",
      "include_colab_link": true
    },
    "kernelspec": {
      "name": "python3",
      "display_name": "Python 3"
    },
    "language_info": {
      "name": "python"
    }
  },
  "cells": [
    {
      "cell_type": "markdown",
      "metadata": {
        "id": "view-in-github",
        "colab_type": "text"
      },
      "source": [
        "<a href=\"https://colab.research.google.com/github/arthurvaz05/Python.Script/blob/master/Deep_Feature_Synthesis_(DFS).ipynb\" target=\"_parent\"><img src=\"https://colab.research.google.com/assets/colab-badge.svg\" alt=\"Open In Colab\"/></a>"
      ]
    },
    {
      "cell_type": "markdown",
      "source": [
        "# Instalação Bibliotecas"
      ],
      "metadata": {
        "id": "VDpLVEd6HC-y"
      }
    },
    {
      "cell_type": "code",
      "execution_count": 5,
      "metadata": {
        "colab": {
          "base_uri": "https://localhost:8080/"
        },
        "id": "wFnRprLGG6sB",
        "outputId": "8ed88bc1-b931-4973-c382-60522485a7ce"
      },
      "outputs": [
        {
          "output_type": "stream",
          "name": "stdout",
          "text": [
            "Found existing installation: folium 0.8.3\n",
            "Uninstalling folium-0.8.3:\n",
            "  Successfully uninstalled folium-0.8.3\n",
            "\u001b[K     |████████████████████████████████| 69 kB 3.3 MB/s \n",
            "\u001b[?25h  Building wheel for folium (setup.py) ... \u001b[?25l\u001b[?25hdone\n",
            "Found existing installation: urllib3 1.24.3\n",
            "Uninstalling urllib3-1.24.3:\n",
            "  Successfully uninstalled urllib3-1.24.3\n",
            "\u001b[K     |████████████████████████████████| 125 kB 4.9 MB/s \n",
            "\u001b[?25h"
          ]
        }
      ],
      "source": [
        "!pip uninstall -y folium\n",
        "!pip install -q folium==0.2.1\n",
        "!pip uninstall -y urllib3\n",
        "!pip install -q urllib3==1.25.4"
      ]
    },
    {
      "cell_type": "code",
      "source": [
        "!pip install -q --upgrade pip\n",
        "!pip uninstall -y featuretools\n",
        "#!pip install -q featuretools~=0.23.0\n",
        "!pip install -q featuretools~=0.1.14\n",
        "!pip uninstall -y pandas\n",
        "!pip install -q pandas~=1.1.0\n",
        "print('Bibliotecas instaladas com sucesso!!')"
      ],
      "metadata": {
        "colab": {
          "base_uri": "https://localhost:8080/"
        },
        "id": "urfCEMl7JfZf",
        "outputId": "84251d3b-ea2b-4fc3-e4be-31b4174ba1f8"
      },
      "execution_count": 6,
      "outputs": [
        {
          "output_type": "stream",
          "name": "stdout",
          "text": [
            "\u001b[?25l\r\u001b[K     |▏                               | 10 kB 25.3 MB/s eta 0:00:01\r\u001b[K     |▍                               | 20 kB 12.4 MB/s eta 0:00:01\r\u001b[K     |▋                               | 30 kB 9.9 MB/s eta 0:00:01\r\u001b[K     |▊                               | 40 kB 8.7 MB/s eta 0:00:01\r\u001b[K     |█                               | 51 kB 5.1 MB/s eta 0:00:01\r\u001b[K     |█▏                              | 61 kB 5.2 MB/s eta 0:00:01\r\u001b[K     |█▎                              | 71 kB 5.4 MB/s eta 0:00:01\r\u001b[K     |█▌                              | 81 kB 6.1 MB/s eta 0:00:01\r\u001b[K     |█▊                              | 92 kB 4.7 MB/s eta 0:00:01\r\u001b[K     |██                              | 102 kB 5.1 MB/s eta 0:00:01\r\u001b[K     |██                              | 112 kB 5.1 MB/s eta 0:00:01\r\u001b[K     |██▎                             | 122 kB 5.1 MB/s eta 0:00:01\r\u001b[K     |██▌                             | 133 kB 5.1 MB/s eta 0:00:01\r\u001b[K     |██▋                             | 143 kB 5.1 MB/s eta 0:00:01\r\u001b[K     |██▉                             | 153 kB 5.1 MB/s eta 0:00:01\r\u001b[K     |███                             | 163 kB 5.1 MB/s eta 0:00:01\r\u001b[K     |███▎                            | 174 kB 5.1 MB/s eta 0:00:01\r\u001b[K     |███▍                            | 184 kB 5.1 MB/s eta 0:00:01\r\u001b[K     |███▋                            | 194 kB 5.1 MB/s eta 0:00:01\r\u001b[K     |███▉                            | 204 kB 5.1 MB/s eta 0:00:01\r\u001b[K     |████                            | 215 kB 5.1 MB/s eta 0:00:01\r\u001b[K     |████▏                           | 225 kB 5.1 MB/s eta 0:00:01\r\u001b[K     |████▍                           | 235 kB 5.1 MB/s eta 0:00:01\r\u001b[K     |████▋                           | 245 kB 5.1 MB/s eta 0:00:01\r\u001b[K     |████▊                           | 256 kB 5.1 MB/s eta 0:00:01\r\u001b[K     |█████                           | 266 kB 5.1 MB/s eta 0:00:01\r\u001b[K     |█████▏                          | 276 kB 5.1 MB/s eta 0:00:01\r\u001b[K     |█████▎                          | 286 kB 5.1 MB/s eta 0:00:01\r\u001b[K     |█████▌                          | 296 kB 5.1 MB/s eta 0:00:01\r\u001b[K     |█████▊                          | 307 kB 5.1 MB/s eta 0:00:01\r\u001b[K     |██████                          | 317 kB 5.1 MB/s eta 0:00:01\r\u001b[K     |██████                          | 327 kB 5.1 MB/s eta 0:00:01\r\u001b[K     |██████▎                         | 337 kB 5.1 MB/s eta 0:00:01\r\u001b[K     |██████▌                         | 348 kB 5.1 MB/s eta 0:00:01\r\u001b[K     |██████▋                         | 358 kB 5.1 MB/s eta 0:00:01\r\u001b[K     |██████▉                         | 368 kB 5.1 MB/s eta 0:00:01\r\u001b[K     |███████                         | 378 kB 5.1 MB/s eta 0:00:01\r\u001b[K     |███████▎                        | 389 kB 5.1 MB/s eta 0:00:01\r\u001b[K     |███████▍                        | 399 kB 5.1 MB/s eta 0:00:01\r\u001b[K     |███████▋                        | 409 kB 5.1 MB/s eta 0:00:01\r\u001b[K     |███████▉                        | 419 kB 5.1 MB/s eta 0:00:01\r\u001b[K     |████████                        | 430 kB 5.1 MB/s eta 0:00:01\r\u001b[K     |████████▏                       | 440 kB 5.1 MB/s eta 0:00:01\r\u001b[K     |████████▍                       | 450 kB 5.1 MB/s eta 0:00:01\r\u001b[K     |████████▌                       | 460 kB 5.1 MB/s eta 0:00:01\r\u001b[K     |████████▊                       | 471 kB 5.1 MB/s eta 0:00:01\r\u001b[K     |█████████                       | 481 kB 5.1 MB/s eta 0:00:01\r\u001b[K     |█████████▏                      | 491 kB 5.1 MB/s eta 0:00:01\r\u001b[K     |█████████▎                      | 501 kB 5.1 MB/s eta 0:00:01\r\u001b[K     |█████████▌                      | 512 kB 5.1 MB/s eta 0:00:01\r\u001b[K     |█████████▊                      | 522 kB 5.1 MB/s eta 0:00:01\r\u001b[K     |█████████▉                      | 532 kB 5.1 MB/s eta 0:00:01\r\u001b[K     |██████████                      | 542 kB 5.1 MB/s eta 0:00:01\r\u001b[K     |██████████▎                     | 552 kB 5.1 MB/s eta 0:00:01\r\u001b[K     |██████████▌                     | 563 kB 5.1 MB/s eta 0:00:01\r\u001b[K     |██████████▋                     | 573 kB 5.1 MB/s eta 0:00:01\r\u001b[K     |██████████▉                     | 583 kB 5.1 MB/s eta 0:00:01\r\u001b[K     |███████████                     | 593 kB 5.1 MB/s eta 0:00:01\r\u001b[K     |███████████▏                    | 604 kB 5.1 MB/s eta 0:00:01\r\u001b[K     |███████████▍                    | 614 kB 5.1 MB/s eta 0:00:01\r\u001b[K     |███████████▋                    | 624 kB 5.1 MB/s eta 0:00:01\r\u001b[K     |███████████▉                    | 634 kB 5.1 MB/s eta 0:00:01\r\u001b[K     |████████████                    | 645 kB 5.1 MB/s eta 0:00:01\r\u001b[K     |████████████▏                   | 655 kB 5.1 MB/s eta 0:00:01\r\u001b[K     |████████████▍                   | 665 kB 5.1 MB/s eta 0:00:01\r\u001b[K     |████████████▌                   | 675 kB 5.1 MB/s eta 0:00:01\r\u001b[K     |████████████▊                   | 686 kB 5.1 MB/s eta 0:00:01\r\u001b[K     |█████████████                   | 696 kB 5.1 MB/s eta 0:00:01\r\u001b[K     |█████████████▏                  | 706 kB 5.1 MB/s eta 0:00:01\r\u001b[K     |█████████████▎                  | 716 kB 5.1 MB/s eta 0:00:01\r\u001b[K     |█████████████▌                  | 727 kB 5.1 MB/s eta 0:00:01\r\u001b[K     |█████████████▊                  | 737 kB 5.1 MB/s eta 0:00:01\r\u001b[K     |█████████████▉                  | 747 kB 5.1 MB/s eta 0:00:01\r\u001b[K     |██████████████                  | 757 kB 5.1 MB/s eta 0:00:01\r\u001b[K     |██████████████▎                 | 768 kB 5.1 MB/s eta 0:00:01\r\u001b[K     |██████████████▌                 | 778 kB 5.1 MB/s eta 0:00:01\r\u001b[K     |██████████████▋                 | 788 kB 5.1 MB/s eta 0:00:01\r\u001b[K     |██████████████▉                 | 798 kB 5.1 MB/s eta 0:00:01\r\u001b[K     |███████████████                 | 808 kB 5.1 MB/s eta 0:00:01\r\u001b[K     |███████████████▏                | 819 kB 5.1 MB/s eta 0:00:01\r\u001b[K     |███████████████▍                | 829 kB 5.1 MB/s eta 0:00:01\r\u001b[K     |███████████████▋                | 839 kB 5.1 MB/s eta 0:00:01\r\u001b[K     |███████████████▉                | 849 kB 5.1 MB/s eta 0:00:01\r\u001b[K     |████████████████                | 860 kB 5.1 MB/s eta 0:00:01\r\u001b[K     |████████████████▏               | 870 kB 5.1 MB/s eta 0:00:01\r\u001b[K     |████████████████▍               | 880 kB 5.1 MB/s eta 0:00:01\r\u001b[K     |████████████████▌               | 890 kB 5.1 MB/s eta 0:00:01\r\u001b[K     |████████████████▊               | 901 kB 5.1 MB/s eta 0:00:01\r\u001b[K     |█████████████████               | 911 kB 5.1 MB/s eta 0:00:01\r\u001b[K     |█████████████████               | 921 kB 5.1 MB/s eta 0:00:01\r\u001b[K     |█████████████████▎              | 931 kB 5.1 MB/s eta 0:00:01\r\u001b[K     |█████████████████▌              | 942 kB 5.1 MB/s eta 0:00:01\r\u001b[K     |█████████████████▊              | 952 kB 5.1 MB/s eta 0:00:01\r\u001b[K     |█████████████████▉              | 962 kB 5.1 MB/s eta 0:00:01\r\u001b[K     |██████████████████              | 972 kB 5.1 MB/s eta 0:00:01\r\u001b[K     |██████████████████▎             | 983 kB 5.1 MB/s eta 0:00:01\r\u001b[K     |██████████████████▍             | 993 kB 5.1 MB/s eta 0:00:01\r\u001b[K     |██████████████████▋             | 1.0 MB 5.1 MB/s eta 0:00:01\r\u001b[K     |██████████████████▉             | 1.0 MB 5.1 MB/s eta 0:00:01\r\u001b[K     |███████████████████             | 1.0 MB 5.1 MB/s eta 0:00:01\r\u001b[K     |███████████████████▏            | 1.0 MB 5.1 MB/s eta 0:00:01\r\u001b[K     |███████████████████▍            | 1.0 MB 5.1 MB/s eta 0:00:01\r\u001b[K     |███████████████████▋            | 1.1 MB 5.1 MB/s eta 0:00:01\r\u001b[K     |███████████████████▊            | 1.1 MB 5.1 MB/s eta 0:00:01\r\u001b[K     |████████████████████            | 1.1 MB 5.1 MB/s eta 0:00:01\r\u001b[K     |████████████████████▏           | 1.1 MB 5.1 MB/s eta 0:00:01\r\u001b[K     |████████████████████▍           | 1.1 MB 5.1 MB/s eta 0:00:01\r\u001b[K     |████████████████████▌           | 1.1 MB 5.1 MB/s eta 0:00:01\r\u001b[K     |████████████████████▊           | 1.1 MB 5.1 MB/s eta 0:00:01\r\u001b[K     |█████████████████████           | 1.1 MB 5.1 MB/s eta 0:00:01\r\u001b[K     |█████████████████████           | 1.1 MB 5.1 MB/s eta 0:00:01\r\u001b[K     |█████████████████████▎          | 1.1 MB 5.1 MB/s eta 0:00:01\r\u001b[K     |█████████████████████▌          | 1.2 MB 5.1 MB/s eta 0:00:01\r\u001b[K     |█████████████████████▊          | 1.2 MB 5.1 MB/s eta 0:00:01\r\u001b[K     |█████████████████████▉          | 1.2 MB 5.1 MB/s eta 0:00:01\r\u001b[K     |██████████████████████          | 1.2 MB 5.1 MB/s eta 0:00:01\r\u001b[K     |██████████████████████▎         | 1.2 MB 5.1 MB/s eta 0:00:01\r\u001b[K     |██████████████████████▍         | 1.2 MB 5.1 MB/s eta 0:00:01\r\u001b[K     |██████████████████████▋         | 1.2 MB 5.1 MB/s eta 0:00:01\r\u001b[K     |██████████████████████▉         | 1.2 MB 5.1 MB/s eta 0:00:01\r\u001b[K     |███████████████████████         | 1.2 MB 5.1 MB/s eta 0:00:01\r\u001b[K     |███████████████████████▏        | 1.2 MB 5.1 MB/s eta 0:00:01\r\u001b[K     |███████████████████████▍        | 1.3 MB 5.1 MB/s eta 0:00:01\r\u001b[K     |███████████████████████▋        | 1.3 MB 5.1 MB/s eta 0:00:01\r\u001b[K     |███████████████████████▊        | 1.3 MB 5.1 MB/s eta 0:00:01\r\u001b[K     |████████████████████████        | 1.3 MB 5.1 MB/s eta 0:00:01\r\u001b[K     |████████████████████████▏       | 1.3 MB 5.1 MB/s eta 0:00:01\r\u001b[K     |████████████████████████▍       | 1.3 MB 5.1 MB/s eta 0:00:01\r\u001b[K     |████████████████████████▌       | 1.3 MB 5.1 MB/s eta 0:00:01\r\u001b[K     |████████████████████████▊       | 1.3 MB 5.1 MB/s eta 0:00:01\r\u001b[K     |█████████████████████████       | 1.3 MB 5.1 MB/s eta 0:00:01\r\u001b[K     |█████████████████████████       | 1.4 MB 5.1 MB/s eta 0:00:01\r\u001b[K     |█████████████████████████▎      | 1.4 MB 5.1 MB/s eta 0:00:01\r\u001b[K     |█████████████████████████▌      | 1.4 MB 5.1 MB/s eta 0:00:01\r\u001b[K     |█████████████████████████▋      | 1.4 MB 5.1 MB/s eta 0:00:01\r\u001b[K     |█████████████████████████▉      | 1.4 MB 5.1 MB/s eta 0:00:01\r\u001b[K     |██████████████████████████      | 1.4 MB 5.1 MB/s eta 0:00:01\r\u001b[K     |██████████████████████████▎     | 1.4 MB 5.1 MB/s eta 0:00:01\r\u001b[K     |██████████████████████████▍     | 1.4 MB 5.1 MB/s eta 0:00:01\r\u001b[K     |██████████████████████████▋     | 1.4 MB 5.1 MB/s eta 0:00:01\r\u001b[K     |██████████████████████████▉     | 1.4 MB 5.1 MB/s eta 0:00:01\r\u001b[K     |███████████████████████████     | 1.5 MB 5.1 MB/s eta 0:00:01\r\u001b[K     |███████████████████████████▏    | 1.5 MB 5.1 MB/s eta 0:00:01\r\u001b[K     |███████████████████████████▍    | 1.5 MB 5.1 MB/s eta 0:00:01\r\u001b[K     |███████████████████████████▋    | 1.5 MB 5.1 MB/s eta 0:00:01\r\u001b[K     |███████████████████████████▊    | 1.5 MB 5.1 MB/s eta 0:00:01\r\u001b[K     |████████████████████████████    | 1.5 MB 5.1 MB/s eta 0:00:01\r\u001b[K     |████████████████████████████▏   | 1.5 MB 5.1 MB/s eta 0:00:01\r\u001b[K     |████████████████████████████▎   | 1.5 MB 5.1 MB/s eta 0:00:01\r\u001b[K     |████████████████████████████▌   | 1.5 MB 5.1 MB/s eta 0:00:01\r\u001b[K     |████████████████████████████▊   | 1.5 MB 5.1 MB/s eta 0:00:01\r\u001b[K     |█████████████████████████████   | 1.6 MB 5.1 MB/s eta 0:00:01\r\u001b[K     |█████████████████████████████   | 1.6 MB 5.1 MB/s eta 0:00:01\r\u001b[K     |█████████████████████████████▎  | 1.6 MB 5.1 MB/s eta 0:00:01\r\u001b[K     |█████████████████████████████▌  | 1.6 MB 5.1 MB/s eta 0:00:01\r\u001b[K     |█████████████████████████████▋  | 1.6 MB 5.1 MB/s eta 0:00:01\r\u001b[K     |█████████████████████████████▉  | 1.6 MB 5.1 MB/s eta 0:00:01\r\u001b[K     |██████████████████████████████  | 1.6 MB 5.1 MB/s eta 0:00:01\r\u001b[K     |██████████████████████████████▎ | 1.6 MB 5.1 MB/s eta 0:00:01\r\u001b[K     |██████████████████████████████▍ | 1.6 MB 5.1 MB/s eta 0:00:01\r\u001b[K     |██████████████████████████████▋ | 1.6 MB 5.1 MB/s eta 0:00:01\r\u001b[K     |██████████████████████████████▉ | 1.7 MB 5.1 MB/s eta 0:00:01\r\u001b[K     |███████████████████████████████ | 1.7 MB 5.1 MB/s eta 0:00:01\r\u001b[K     |███████████████████████████████▏| 1.7 MB 5.1 MB/s eta 0:00:01\r\u001b[K     |███████████████████████████████▍| 1.7 MB 5.1 MB/s eta 0:00:01\r\u001b[K     |███████████████████████████████▋| 1.7 MB 5.1 MB/s eta 0:00:01\r\u001b[K     |███████████████████████████████▊| 1.7 MB 5.1 MB/s eta 0:00:01\r\u001b[K     |████████████████████████████████| 1.7 MB 5.1 MB/s eta 0:00:01\r\u001b[K     |████████████████████████████████| 1.7 MB 5.1 MB/s \n",
            "\u001b[?25h\u001b[33mWARNING: Skipping featuretools as it is not installed.\u001b[0m\n",
            "\u001b[33mWARNING: Running pip as the 'root' user can result in broken permissions and conflicting behaviour with the system package manager. It is recommended to use a virtual environment instead: https://pip.pypa.io/warnings/venv\u001b[0m\n",
            "     |████████████████████████████████| 140 kB 5.1 MB/s            \n",
            "\u001b[?25h  Preparing metadata (setup.py) ... \u001b[?25l\u001b[?25hdone\n",
            "     |████████████████████████████████| 164 kB 53.4 MB/s            \n",
            "     |████████████████████████████████| 54 kB 2.8 MB/s             \n",
            "\u001b[?25h  Preparing metadata (setup.py) ... \u001b[?25l\u001b[?25hdone\n",
            "     |████████████████████████████████| 1.1 MB 46.4 MB/s            \n",
            "     |████████████████████████████████| 133 kB 54.7 MB/s            \n",
            "     |████████████████████████████████| 8.4 MB 57.9 MB/s            \n",
            "     |████████████████████████████████| 271 kB 81.0 MB/s            \n",
            "     |████████████████████████████████| 160 kB 71.7 MB/s            \n",
            "     |████████████████████████████████| 144 kB 70.9 MB/s            \n",
            "\u001b[?25h  Building wheel for featuretools (setup.py) ... \u001b[?25l\u001b[?25hdone\n",
            "  Building wheel for aiobotocore (setup.py) ... \u001b[?25l\u001b[?25hdone\n",
            "\u001b[33mWARNING: Running pip as the 'root' user can result in broken permissions and conflicting behaviour with the system package manager. It is recommended to use a virtual environment instead: https://pip.pypa.io/warnings/venv\u001b[0m\n",
            "Found existing installation: pandas 1.1.5\n",
            "Uninstalling pandas-1.1.5:\n",
            "  Successfully uninstalled pandas-1.1.5\n",
            "\u001b[33mWARNING: Running pip as the 'root' user can result in broken permissions and conflicting behaviour with the system package manager. It is recommended to use a virtual environment instead: https://pip.pypa.io/warnings/venv\u001b[0m\n",
            "     |████████████████████████████████| 9.5 MB 5.2 MB/s            \n",
            "\u001b[33mWARNING: Running pip as the 'root' user can result in broken permissions and conflicting behaviour with the system package manager. It is recommended to use a virtual environment instead: https://pip.pypa.io/warnings/venv\u001b[0m\n",
            "\u001b[?25hBibliotecas instaladas com sucesso!!\n"
          ]
        }
      ]
    },
    {
      "cell_type": "code",
      "source": [
        "from google.colab import drive\n",
        "drive.mount('/content/drive')"
      ],
      "metadata": {
        "colab": {
          "base_uri": "https://localhost:8080/"
        },
        "id": "seqUW79c_Z7j",
        "outputId": "67feea07-bb0e-4a83-bff7-9125a3b24fb0"
      },
      "execution_count": 7,
      "outputs": [
        {
          "output_type": "stream",
          "name": "stdout",
          "text": [
            "Drive already mounted at /content/drive; to attempt to forcibly remount, call drive.mount(\"/content/drive\", force_remount=True).\n"
          ]
        }
      ]
    },
    {
      "cell_type": "markdown",
      "source": [
        "# Carregar Bibliotecas"
      ],
      "metadata": {
        "id": "erG6OLuT74Rj"
      }
    },
    {
      "cell_type": "code",
      "source": [
        "from google.colab import auth\n",
        "auth.authenticate_user()\n",
        "\n",
        "from pydrive.auth import GoogleAuth\n",
        "from pydrive.drive import GoogleDrive\n",
        "from google.colab import auth\n",
        "from oauth2client.client import GoogleCredentials\n",
        "\n",
        "gauth = GoogleAuth()\n",
        "gauth.credentials = GoogleCredentials.get_application_default()\n",
        "drive = GoogleDrive(gauth)\n",
        "data_drop = drive.CreateFile({'id':'10aXz56ohVOgF2gH4yvmrvTJFY990RHZ1'})\n",
        "data_drop.GetContentFile('dropoff_neighborhoods.csv')\n",
        "data_pick = drive.CreateFile({'id':'1zakjpcMUZTKanSeVlPWbYhL85zn5g8zX'})\n",
        "data_pick.GetContentFile('pickup_neighborhoods.csv')\n",
        "data_trips = drive.CreateFile({'id':'1D4OJPulDK-Z5l4mgwuI2C1zBr4JRC-Q5'})\n",
        "data_trips.GetContentFile('trips.pkl')\n",
        "utils_file = drive.CreateFile({'id':'1UbV2z7L5vonCz3KFLywGs4U-p2g5gQwy'})\n",
        "utils_file.GetContentFile('utils.py')\n",
        "\n",
        "print('Google Drive sincronizado com sucesso!')"
      ],
      "metadata": {
        "colab": {
          "base_uri": "https://localhost:8080/"
        },
        "id": "AtJHjHwjJgtF",
        "outputId": "2f03771b-e0aa-477b-e2c6-ae29340b7f04"
      },
      "execution_count": 8,
      "outputs": [
        {
          "output_type": "stream",
          "name": "stdout",
          "text": [
            "Google Drive sincronizado com sucesso!\n"
          ]
        }
      ]
    },
    {
      "cell_type": "code",
      "source": [
        "import featuretools as ft\n",
        "import matplotlib\n",
        "import matplotlib.pyplot as plt\n",
        "import numpy as np\n",
        "import pandas as pd\n",
        "import utils\n",
        "from featuretools.primitives import (Count, Day, Hour, Max, Mean, Median, Min,\n",
        "                                     Minute, Month, Std, Sum, Week, Weekday,\n",
        "                                     Weekend as Weekend)\n",
        "from sklearn.ensemble import GradientBoostingRegressor\n",
        "from utils import (compute_features, feature_importances, load_nyc_taxi_data,\n",
        "                   preview)\n",
        "%matplotlib inline\n",
        "\n",
        "print('Bibliotecas importadas com suceso!')"
      ],
      "metadata": {
        "colab": {
          "base_uri": "https://localhost:8080/"
        },
        "id": "GFK4N0QE_0_d",
        "outputId": "0a7f8433-7035-4daf-ae2b-6f3851f56492"
      },
      "execution_count": 9,
      "outputs": [
        {
          "output_type": "stream",
          "name": "stdout",
          "text": [
            "Bibliotecas importadas com suceso!\n"
          ]
        }
      ]
    },
    {
      "cell_type": "code",
      "source": [
        "trips, pickup_neighborhoods, dropoff_neighborhoods = load_nyc_taxi_data()\n",
        "preview(trips, 10)\n",
        "print('Dados carregados com sucesso!')"
      ],
      "metadata": {
        "colab": {
          "base_uri": "https://localhost:8080/"
        },
        "id": "Me1hw3i5_hjM",
        "outputId": "65c7b337-375a-4f0c-9e10-adf612804132"
      },
      "execution_count": 10,
      "outputs": [
        {
          "output_type": "stream",
          "name": "stdout",
          "text": [
            "Dados carregados com sucesso!\n"
          ]
        }
      ]
    },
    {
      "cell_type": "code",
      "source": [
        ""
      ],
      "metadata": {
        "id": "cZb1KJsd_tIT"
      },
      "execution_count": null,
      "outputs": []
    }
  ]
}