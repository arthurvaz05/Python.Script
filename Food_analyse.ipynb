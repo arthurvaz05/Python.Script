{
  "nbformat": 4,
  "nbformat_minor": 0,
  "metadata": {
    "colab": {
      "name": "Food_analyse.ipynb",
      "provenance": [],
      "include_colab_link": true
    },
    "kernelspec": {
      "name": "python3",
      "display_name": "Python 3"
    }
  },
  "cells": [
    {
      "cell_type": "markdown",
      "metadata": {
        "id": "view-in-github",
        "colab_type": "text"
      },
      "source": [
        "<a href=\"https://colab.research.google.com/github/arthurvaz05/Python.Script/blob/master/Food_analyse.ipynb\" target=\"_parent\"><img src=\"https://colab.research.google.com/assets/colab-badge.svg\" alt=\"Open In Colab\"/></a>"
      ]
    },
    {
      "cell_type": "code",
      "metadata": {
        "id": "rX3E9uEz9D7H",
        "colab_type": "code",
        "outputId": "9423fce3-e7cc-44f5-f18d-026d1fc05f0d",
        "colab": {
          "base_uri": "https://localhost:8080/",
          "height": 201
        }
      },
      "source": [
        "%pip install pulp"
      ],
      "execution_count": 0,
      "outputs": [
        {
          "output_type": "stream",
          "text": [
            "Collecting pulp\n",
            "\u001b[?25l  Downloading https://files.pythonhosted.org/packages/2d/33/3ae6d9d2ac8c7068937af6372fd8828ac605e62a8b17106fe57110930d38/PuLP-1.6.10.zip (13.6MB)\n",
            "\u001b[K     |████████████████████████████████| 13.6MB 164kB/s \n",
            "\u001b[?25hRequirement already satisfied: pyparsing>=2.0.1 in /usr/local/lib/python3.6/dist-packages (from pulp) (2.4.2)\n",
            "Building wheels for collected packages: pulp\n",
            "  Building wheel for pulp (setup.py) ... \u001b[?25l\u001b[?25hdone\n",
            "  Created wheel for pulp: filename=PuLP-1.6.10-cp36-none-any.whl size=12269903 sha256=dc83c869ef41a8c72180af921546334d9cc2f3cc5a55217533a305fa5a27741b\n",
            "  Stored in directory: /root/.cache/pip/wheels/5e/76/77/e28b22219e46e3b4b033f02e8b36b2770ae545bdcf60c2b224\n",
            "Successfully built pulp\n",
            "Installing collected packages: pulp\n",
            "Successfully installed pulp-1.6.10\n"
          ],
          "name": "stdout"
        }
      ]
    },
    {
      "cell_type": "code",
      "metadata": {
        "id": "ECa5oOfPD7S4",
        "colab_type": "code",
        "outputId": "ad701a4f-62c5-436e-83b0-f37ff3ed7a68",
        "colab": {
          "base_uri": "https://localhost:8080/",
          "height": 1000
        }
      },
      "source": [
        "!apt-get install glpk-utils\n",
        "!apt-get install coinor-cbc"
      ],
      "execution_count": 0,
      "outputs": [
        {
          "output_type": "stream",
          "text": [
            "Reading package lists... Done\n",
            "Building dependency tree       \n",
            "Reading state information... Done\n",
            "The following additional packages will be installed:\n",
            "  libamd2 libcolamd2 libglpk40 libsuitesparseconfig5\n",
            "Suggested packages:\n",
            "  libiodbc2-dev default-libmysqlclient-dev\n",
            "The following NEW packages will be installed:\n",
            "  glpk-utils libamd2 libcolamd2 libglpk40 libsuitesparseconfig5\n",
            "0 upgraded, 5 newly installed, 0 to remove and 35 not upgraded.\n",
            "Need to get 692 kB of archives.\n",
            "After this operation, 1,664 kB of additional disk space will be used.\n",
            "Get:1 http://archive.ubuntu.com/ubuntu bionic/main amd64 libsuitesparseconfig5 amd64 1:5.1.2-2 [9,044 B]\n",
            "Get:2 http://archive.ubuntu.com/ubuntu bionic/main amd64 libamd2 amd64 1:5.1.2-2 [19.5 kB]\n",
            "Get:3 http://archive.ubuntu.com/ubuntu bionic/main amd64 libcolamd2 amd64 1:5.1.2-2 [16.2 kB]\n",
            "Get:4 http://archive.ubuntu.com/ubuntu bionic/universe amd64 libglpk40 amd64 4.65-1 [378 kB]\n",
            "Get:5 http://archive.ubuntu.com/ubuntu bionic/universe amd64 glpk-utils amd64 4.65-1 [269 kB]\n",
            "Fetched 692 kB in 2s (328 kB/s)\n",
            "Selecting previously unselected package libsuitesparseconfig5:amd64.\n",
            "(Reading database ... 132684 files and directories currently installed.)\n",
            "Preparing to unpack .../libsuitesparseconfig5_1%3a5.1.2-2_amd64.deb ...\n",
            "Unpacking libsuitesparseconfig5:amd64 (1:5.1.2-2) ...\n",
            "Selecting previously unselected package libamd2:amd64.\n",
            "Preparing to unpack .../libamd2_1%3a5.1.2-2_amd64.deb ...\n",
            "Unpacking libamd2:amd64 (1:5.1.2-2) ...\n",
            "Selecting previously unselected package libcolamd2:amd64.\n",
            "Preparing to unpack .../libcolamd2_1%3a5.1.2-2_amd64.deb ...\n",
            "Unpacking libcolamd2:amd64 (1:5.1.2-2) ...\n",
            "Selecting previously unselected package libglpk40:amd64.\n",
            "Preparing to unpack .../libglpk40_4.65-1_amd64.deb ...\n",
            "Unpacking libglpk40:amd64 (4.65-1) ...\n",
            "Selecting previously unselected package glpk-utils.\n",
            "Preparing to unpack .../glpk-utils_4.65-1_amd64.deb ...\n",
            "Unpacking glpk-utils (4.65-1) ...\n",
            "Processing triggers for libc-bin (2.27-3ubuntu1) ...\n",
            "Setting up libsuitesparseconfig5:amd64 (1:5.1.2-2) ...\n",
            "Setting up libcolamd2:amd64 (1:5.1.2-2) ...\n",
            "Processing triggers for man-db (2.8.3-2ubuntu0.1) ...\n",
            "Setting up libamd2:amd64 (1:5.1.2-2) ...\n",
            "Setting up libglpk40:amd64 (4.65-1) ...\n",
            "Setting up glpk-utils (4.65-1) ...\n",
            "Processing triggers for libc-bin (2.27-3ubuntu1) ...\n",
            "Reading package lists... Done\n",
            "Building dependency tree       \n",
            "Reading state information... Done\n",
            "The following additional packages will be installed:\n",
            "  coinor-libcbc3 coinor-libcgl1 coinor-libclp1 coinor-libcoinutils3v5\n",
            "  coinor-libosi1v5\n",
            "The following NEW packages will be installed:\n",
            "  coinor-cbc coinor-libcbc3 coinor-libcgl1 coinor-libclp1\n",
            "  coinor-libcoinutils3v5 coinor-libosi1v5\n",
            "0 upgraded, 6 newly installed, 0 to remove and 35 not upgraded.\n",
            "Need to get 2,737 kB of archives.\n",
            "After this operation, 8,130 kB of additional disk space will be used.\n",
            "Get:1 http://archive.ubuntu.com/ubuntu bionic/universe amd64 coinor-libcoinutils3v5 amd64 2.10.14+repack1-1 [472 kB]\n",
            "Get:2 http://archive.ubuntu.com/ubuntu bionic/universe amd64 coinor-libosi1v5 amd64 0.107.9+repack1-1 [270 kB]\n",
            "Get:3 http://archive.ubuntu.com/ubuntu bionic/universe amd64 coinor-libclp1 amd64 1.16.11+repack1-1 [863 kB]\n",
            "Get:4 http://archive.ubuntu.com/ubuntu bionic/universe amd64 coinor-libcgl1 amd64 0.59.10+repack1-1 [433 kB]\n",
            "Get:5 http://archive.ubuntu.com/ubuntu bionic/universe amd64 coinor-libcbc3 amd64 2.9.9+repack1-1 [687 kB]\n",
            "Get:6 http://archive.ubuntu.com/ubuntu bionic/universe amd64 coinor-cbc amd64 2.9.9+repack1-1 [11.2 kB]\n",
            "Fetched 2,737 kB in 4s (716 kB/s)\n",
            "Selecting previously unselected package coinor-libcoinutils3v5.\n",
            "(Reading database ... 132887 files and directories currently installed.)\n",
            "Preparing to unpack .../0-coinor-libcoinutils3v5_2.10.14+repack1-1_amd64.deb ...\n",
            "Unpacking coinor-libcoinutils3v5 (2.10.14+repack1-1) ...\n",
            "Selecting previously unselected package coinor-libosi1v5.\n",
            "Preparing to unpack .../1-coinor-libosi1v5_0.107.9+repack1-1_amd64.deb ...\n",
            "Unpacking coinor-libosi1v5 (0.107.9+repack1-1) ...\n",
            "Selecting previously unselected package coinor-libclp1.\n",
            "Preparing to unpack .../2-coinor-libclp1_1.16.11+repack1-1_amd64.deb ...\n",
            "Unpacking coinor-libclp1 (1.16.11+repack1-1) ...\n",
            "Selecting previously unselected package coinor-libcgl1.\n",
            "Preparing to unpack .../3-coinor-libcgl1_0.59.10+repack1-1_amd64.deb ...\n",
            "Unpacking coinor-libcgl1 (0.59.10+repack1-1) ...\n",
            "Selecting previously unselected package coinor-libcbc3.\n",
            "Preparing to unpack .../4-coinor-libcbc3_2.9.9+repack1-1_amd64.deb ...\n",
            "Unpacking coinor-libcbc3 (2.9.9+repack1-1) ...\n",
            "Selecting previously unselected package coinor-cbc.\n",
            "Preparing to unpack .../5-coinor-cbc_2.9.9+repack1-1_amd64.deb ...\n",
            "Unpacking coinor-cbc (2.9.9+repack1-1) ...\n",
            "Processing triggers for libc-bin (2.27-3ubuntu1) ...\n",
            "Processing triggers for man-db (2.8.3-2ubuntu0.1) ...\n",
            "Setting up coinor-libcoinutils3v5 (2.10.14+repack1-1) ...\n",
            "Setting up coinor-libosi1v5 (0.107.9+repack1-1) ...\n",
            "Setting up coinor-libclp1 (1.16.11+repack1-1) ...\n",
            "Setting up coinor-libcgl1 (0.59.10+repack1-1) ...\n",
            "Setting up coinor-libcbc3 (2.9.9+repack1-1) ...\n",
            "Setting up coinor-cbc (2.9.9+repack1-1) ...\n",
            "Processing triggers for libc-bin (2.27-3ubuntu1) ...\n"
          ],
          "name": "stdout"
        }
      ]
    },
    {
      "cell_type": "code",
      "metadata": {
        "id": "KodKw5bN8_hN",
        "colab_type": "code",
        "colab": {}
      },
      "source": [
        "import pandas as pd\n",
        "from pulp import *\n",
        "from pydrive.auth import GoogleAuth\n",
        "from pydrive.drive import GoogleDrive\n",
        "from google.colab import auth\n",
        "from oauth2client.client import GoogleCredentials\n",
        "from google.colab import drive"
      ],
      "execution_count": 0,
      "outputs": []
    },
    {
      "cell_type": "code",
      "metadata": {
        "id": "1GrJvNDtRp3R",
        "colab_type": "code",
        "colab": {
          "base_uri": "https://localhost:8080/",
          "height": 33
        },
        "outputId": "49dd055c-7a93-4abe-d869-23310906b84f"
      },
      "source": [
        "#ativando a conta\n",
        "drive.mount('/content/drive/')"
      ],
      "execution_count": 59,
      "outputs": [
        {
          "output_type": "stream",
          "text": [
            "Drive already mounted at /content/drive/; to attempt to forcibly remount, call drive.mount(\"/content/drive/\", force_remount=True).\n"
          ],
          "name": "stdout"
        }
      ]
    },
    {
      "cell_type": "code",
      "metadata": {
        "id": "fdLQsLNtR0lE",
        "colab_type": "code",
        "colab": {
          "base_uri": "https://localhost:8080/",
          "height": 33
        },
        "outputId": "100172dc-f5f6-4dd3-e5d2-3201caf4a1b3"
      },
      "source": [
        "#verificar os arquivos disponiveis na pasta\n",
        "!ls \"/content/drive/My Drive/Colab Notebooks/Food_otmization\""
      ],
      "execution_count": 60,
      "outputs": [
        {
          "output_type": "stream",
          "text": [
            "Food_analyse.ipynb  food_base.xlsx  food_restricao.xlsx\n"
          ],
          "name": "stdout"
        }
      ]
    },
    {
      "cell_type": "code",
      "metadata": {
        "id": "qug5GVfSEiXd",
        "colab_type": "code",
        "colab": {}
      },
      "source": [
        "df_food = pd.read_excel('/content/drive/My Drive/Colab Notebooks/Food_otmization/food_base.xlsx')\n",
        "df_food_restricao = pd.read_excel('/content/drive/My Drive/Colab Notebooks/Food_otmization/food_restricao.xlsx')"
      ],
      "execution_count": 0,
      "outputs": []
    },
    {
      "cell_type": "code",
      "metadata": {
        "id": "OPtWlVmvSHed",
        "colab_type": "code",
        "colab": {
          "base_uri": "https://localhost:8080/",
          "height": 230
        },
        "outputId": "ef3a813a-f931-49ea-c5cb-169791744188"
      },
      "source": [
        "df_food.head()"
      ],
      "execution_count": 62,
      "outputs": [
        {
          "output_type": "execute_result",
          "data": {
            "text/html": [
              "<div>\n",
              "<style scoped>\n",
              "    .dataframe tbody tr th:only-of-type {\n",
              "        vertical-align: middle;\n",
              "    }\n",
              "\n",
              "    .dataframe tbody tr th {\n",
              "        vertical-align: top;\n",
              "    }\n",
              "\n",
              "    .dataframe thead th {\n",
              "        text-align: right;\n",
              "    }\n",
              "</style>\n",
              "<table border=\"1\" class=\"dataframe\">\n",
              "  <thead>\n",
              "    <tr style=\"text-align: right;\">\n",
              "      <th></th>\n",
              "      <th>Foods</th>\n",
              "      <th>Price/serving</th>\n",
              "      <th>Serving Size</th>\n",
              "      <th>Calories</th>\n",
              "      <th>Total_fat g</th>\n",
              "      <th>Carbohydrates g</th>\n",
              "      <th>Protein g</th>\n",
              "      <th>Fiber g</th>\n",
              "      <th>Cholesterol mg</th>\n",
              "      <th>Sodium mg</th>\n",
              "      <th>Calcium mg</th>\n",
              "      <th>Iron mg</th>\n",
              "      <th>Total serving g</th>\n",
              "    </tr>\n",
              "  </thead>\n",
              "  <tbody>\n",
              "    <tr>\n",
              "      <th>0</th>\n",
              "      <td>Frozen Broccoli</td>\n",
              "      <td>0.48</td>\n",
              "      <td>10 OZ</td>\n",
              "      <td>73.8</td>\n",
              "      <td>0.8</td>\n",
              "      <td>13.6</td>\n",
              "      <td>8.0</td>\n",
              "      <td>8.5</td>\n",
              "      <td>0.0</td>\n",
              "      <td>68.2</td>\n",
              "      <td>159.0</td>\n",
              "      <td>2.3</td>\n",
              "      <td>31.1295</td>\n",
              "    </tr>\n",
              "    <tr>\n",
              "      <th>1</th>\n",
              "      <td>Frozen Corn</td>\n",
              "      <td>0.54</td>\n",
              "      <td>1/2 Cup</td>\n",
              "      <td>72.2</td>\n",
              "      <td>0.6</td>\n",
              "      <td>17.1</td>\n",
              "      <td>2.5</td>\n",
              "      <td>2.0</td>\n",
              "      <td>0.0</td>\n",
              "      <td>2.5</td>\n",
              "      <td>3.3</td>\n",
              "      <td>0.3</td>\n",
              "      <td>22.2061</td>\n",
              "    </tr>\n",
              "    <tr>\n",
              "      <th>2</th>\n",
              "      <td>Raw Lettuce Iceberg</td>\n",
              "      <td>0.06</td>\n",
              "      <td>1 Leaf</td>\n",
              "      <td>2.6</td>\n",
              "      <td>0.0</td>\n",
              "      <td>0.4</td>\n",
              "      <td>0.2</td>\n",
              "      <td>0.3</td>\n",
              "      <td>0.0</td>\n",
              "      <td>1.8</td>\n",
              "      <td>3.8</td>\n",
              "      <td>0.1</td>\n",
              "      <td>0.9057</td>\n",
              "    </tr>\n",
              "    <tr>\n",
              "      <th>3</th>\n",
              "      <td>Baked Potatos</td>\n",
              "      <td>0.18</td>\n",
              "      <td>1/2 Cup</td>\n",
              "      <td>171.5</td>\n",
              "      <td>0.2</td>\n",
              "      <td>39.9</td>\n",
              "      <td>3.7</td>\n",
              "      <td>3.2</td>\n",
              "      <td>0.0</td>\n",
              "      <td>15.2</td>\n",
              "      <td>22.7</td>\n",
              "      <td>4.3</td>\n",
              "      <td>47.0422</td>\n",
              "    </tr>\n",
              "    <tr>\n",
              "      <th>4</th>\n",
              "      <td>Tofu</td>\n",
              "      <td>0.93</td>\n",
              "      <td>1/4 block</td>\n",
              "      <td>88.2</td>\n",
              "      <td>5.5</td>\n",
              "      <td>2.2</td>\n",
              "      <td>9.4</td>\n",
              "      <td>1.4</td>\n",
              "      <td>0.0</td>\n",
              "      <td>8.1</td>\n",
              "      <td>121.8</td>\n",
              "      <td>6.2</td>\n",
              "      <td>18.6361</td>\n",
              "    </tr>\n",
              "  </tbody>\n",
              "</table>\n",
              "</div>"
            ],
            "text/plain": [
              "                 Foods  Price/serving  ... Iron mg  Total serving g\n",
              "0      Frozen Broccoli           0.48  ...     2.3          31.1295\n",
              "1          Frozen Corn           0.54  ...     0.3          22.2061\n",
              "2  Raw Lettuce Iceberg           0.06  ...     0.1           0.9057\n",
              "3        Baked Potatos           0.18  ...     4.3          47.0422\n",
              "4                 Tofu           0.93  ...     6.2          18.6361\n",
              "\n",
              "[5 rows x 13 columns]"
            ]
          },
          "metadata": {
            "tags": []
          },
          "execution_count": 62
        }
      ]
    },
    {
      "cell_type": "code",
      "metadata": {
        "id": "c5LCdBQ3SXGP",
        "colab_type": "code",
        "colab": {
          "base_uri": "https://localhost:8080/",
          "height": 107
        },
        "outputId": "6d28f400-dd7f-4598-878b-3bc8f573d4a6"
      },
      "source": [
        "df_food_restricao.head()"
      ],
      "execution_count": 63,
      "outputs": [
        {
          "output_type": "execute_result",
          "data": {
            "text/html": [
              "<div>\n",
              "<style scoped>\n",
              "    .dataframe tbody tr th:only-of-type {\n",
              "        vertical-align: middle;\n",
              "    }\n",
              "\n",
              "    .dataframe tbody tr th {\n",
              "        vertical-align: top;\n",
              "    }\n",
              "\n",
              "    .dataframe thead th {\n",
              "        text-align: right;\n",
              "    }\n",
              "</style>\n",
              "<table border=\"1\" class=\"dataframe\">\n",
              "  <thead>\n",
              "    <tr style=\"text-align: right;\">\n",
              "      <th></th>\n",
              "      <th>Restricoes</th>\n",
              "      <th>Price/serving</th>\n",
              "      <th>Calories</th>\n",
              "      <th>Total_fat g</th>\n",
              "      <th>Carbohydrates g</th>\n",
              "      <th>Protein g</th>\n",
              "      <th>Fiber g</th>\n",
              "      <th>Cholesterol mg</th>\n",
              "      <th>Sodium mg</th>\n",
              "      <th>Calcium mg</th>\n",
              "      <th>Iron mg</th>\n",
              "      <th>Total serving g</th>\n",
              "    </tr>\n",
              "  </thead>\n",
              "  <tbody>\n",
              "    <tr>\n",
              "      <th>0</th>\n",
              "      <td>Minimo</td>\n",
              "      <td>20</td>\n",
              "      <td>800</td>\n",
              "      <td>20</td>\n",
              "      <td>130</td>\n",
              "      <td>100</td>\n",
              "      <td>60</td>\n",
              "      <td>30</td>\n",
              "      <td>800</td>\n",
              "      <td>700</td>\n",
              "      <td>10</td>\n",
              "      <td>311.54</td>\n",
              "    </tr>\n",
              "    <tr>\n",
              "      <th>1</th>\n",
              "      <td>Maximo</td>\n",
              "      <td>35</td>\n",
              "      <td>1300</td>\n",
              "      <td>50</td>\n",
              "      <td>200</td>\n",
              "      <td>150</td>\n",
              "      <td>125</td>\n",
              "      <td>240</td>\n",
              "      <td>2000</td>\n",
              "      <td>1500</td>\n",
              "      <td>40</td>\n",
              "      <td>528.78</td>\n",
              "    </tr>\n",
              "  </tbody>\n",
              "</table>\n",
              "</div>"
            ],
            "text/plain": [
              "  Restricoes  Price/serving  Calories  ...  Calcium mg  Iron mg  Total serving g\n",
              "0     Minimo             20       800  ...         700       10           311.54\n",
              "1     Maximo             35      1300  ...        1500       40           528.78\n",
              "\n",
              "[2 rows x 12 columns]"
            ]
          },
          "metadata": {
            "tags": []
          },
          "execution_count": 63
        }
      ]
    },
    {
      "cell_type": "code",
      "metadata": {
        "id": "HnSloZDsSY7k",
        "colab_type": "code",
        "colab": {}
      },
      "source": [
        "prob = LpProblem('Dieta Perfeita', LpMinimize)"
      ],
      "execution_count": 0,
      "outputs": []
    },
    {
      "cell_type": "code",
      "metadata": {
        "id": "Kxvggra_Sm-3",
        "colab_type": "code",
        "colab": {}
      },
      "source": [
        "#criar lista dos alimentos\n",
        "foods_item = list(df_food['Foods'])"
      ],
      "execution_count": 0,
      "outputs": []
    },
    {
      "cell_type": "code",
      "metadata": {
        "id": "GqKG3doMSyTk",
        "colab_type": "code",
        "colab": {}
      },
      "source": [
        "#Criar um dicionario de custo de todos os alimentos com o nome do alimento\n",
        "custo = dict(zip(foods_item,df_food['Price/serving']))"
      ],
      "execution_count": 0,
      "outputs": []
    },
    {
      "cell_type": "code",
      "metadata": {
        "id": "AVLCBoImTJ2T",
        "colab_type": "code",
        "colab": {}
      },
      "source": [
        "#Criar um dicionario de calorias de todos os alimentos com o nome do alimento\n",
        "calorias = dict(zip(foods_item,df_food['Calories']))"
      ],
      "execution_count": 0,
      "outputs": []
    },
    {
      "cell_type": "code",
      "metadata": {
        "id": "XyapdKGKTZiD",
        "colab_type": "code",
        "colab": {}
      },
      "source": [
        "#Criar um dicionario de gordura de todos os alimentos com o nome do alimento\n",
        "fat = dict(zip(foods_item,df_food['Total_fat g']))"
      ],
      "execution_count": 0,
      "outputs": []
    },
    {
      "cell_type": "code",
      "metadata": {
        "id": "xI3_TZa1Thst",
        "colab_type": "code",
        "colab": {}
      },
      "source": [
        "#Criar um dicionario de carboidratos de todos os alimentos com o nome do alimento\n",
        "carb = dict(zip(foods_item,df_food['Carbohydrates g']))"
      ],
      "execution_count": 0,
      "outputs": []
    },
    {
      "cell_type": "code",
      "metadata": {
        "id": "BJOsG_dfVjGs",
        "colab_type": "code",
        "colab": {}
      },
      "source": [
        "#Criar um dicionario de fibra de todos os alimentos com o nome do alimento\n",
        "fiber = dict(zip(foods_item,df_food['Fiber g']))"
      ],
      "execution_count": 0,
      "outputs": []
    },
    {
      "cell_type": "code",
      "metadata": {
        "id": "LgcLJ-zcVlCE",
        "colab_type": "code",
        "colab": {}
      },
      "source": [
        "#Criar um dicionario de proteina de todos os alimentos com o nome do alimento\n",
        "protein = dict(zip(foods_item,df_food['Protein g']))"
      ],
      "execution_count": 0,
      "outputs": []
    },
    {
      "cell_type": "code",
      "metadata": {
        "id": "i4YFRfiSTqWQ",
        "colab_type": "code",
        "colab": {}
      },
      "source": [
        "#Definindo que o modelo pode pegar qualquer valor maior que zero\n",
        "food_var = LpVariable.dicts('Food', foods_item,lowBound=0,cat='Continuous')"
      ],
      "execution_count": 0,
      "outputs": []
    },
    {
      "cell_type": "code",
      "metadata": {
        "id": "TJqY6KTiT8g2",
        "colab_type": "code",
        "colab": {}
      },
      "source": [
        "#Funcao objetiva\n",
        "prob += lpSum([custo[i]*food_var[i] for i in foods_item])"
      ],
      "execution_count": 0,
      "outputs": []
    },
    {
      "cell_type": "code",
      "metadata": {
        "id": "8JTCh-6bUY1Y",
        "colab_type": "code",
        "colab": {}
      },
      "source": [
        "#Restricoes de calorias\n",
        "prob += lpSum([calorias[f] * food_var[f] for f in foods_item]) >= 800\n",
        "prob += lpSum([calorias[f] * food_var[f] for f in foods_item]) <= 1300"
      ],
      "execution_count": 0,
      "outputs": []
    },
    {
      "cell_type": "code",
      "metadata": {
        "id": "3_sSe4iVU7yd",
        "colab_type": "code",
        "colab": {}
      },
      "source": [
        "#Restricoes de Preco\n",
        "prob += lpSum([custo[f] * food_var[f] for f in foods_item]) >= 20\n",
        "prob += lpSum([custo[f] * food_var[f] for f in foods_item]) <= 35"
      ],
      "execution_count": 0,
      "outputs": []
    },
    {
      "cell_type": "code",
      "metadata": {
        "id": "52K1_F7kVJXs",
        "colab_type": "code",
        "colab": {}
      },
      "source": [
        "#Restricoes de Gordura\n",
        "prob += lpSum([fat[f] * food_var[f] for f in foods_item]) >= 20\n",
        "prob += lpSum([fat[f] * food_var[f] for f in foods_item]) <= 50"
      ],
      "execution_count": 0,
      "outputs": []
    },
    {
      "cell_type": "code",
      "metadata": {
        "id": "6Oe9c4wXVSSD",
        "colab_type": "code",
        "colab": {}
      },
      "source": [
        "#Restricoes de carboidrato\n",
        "prob += lpSum([carb[f] * food_var[f] for f in foods_item]) >= 130\n",
        "prob += lpSum([carb[f] * food_var[f] for f in foods_item]) <= 200"
      ],
      "execution_count": 0,
      "outputs": []
    },
    {
      "cell_type": "code",
      "metadata": {
        "id": "RB__j4WiVaYy",
        "colab_type": "code",
        "colab": {}
      },
      "source": [
        "#Restricoes de Fibra\n",
        "prob += lpSum([fiber[f] * food_var[f] for f in foods_item]) >= 60\n",
        "prob += lpSum([fiber[f] * food_var[f] for f in foods_item]) <= 125"
      ],
      "execution_count": 0,
      "outputs": []
    },
    {
      "cell_type": "code",
      "metadata": {
        "id": "PTE33I-OV22f",
        "colab_type": "code",
        "colab": {}
      },
      "source": [
        "#Restricoes de Fibra\n",
        "prob += lpSum([protein[f] * food_var[f] for f in foods_item]) >= 100\n",
        "prob += lpSum([protein[f] * food_var[f] for f in foods_item]) <= 150"
      ],
      "execution_count": 0,
      "outputs": []
    },
    {
      "cell_type": "code",
      "metadata": {
        "id": "HrsMSCuhV_LY",
        "colab_type": "code",
        "colab": {
          "base_uri": "https://localhost:8080/",
          "height": 33
        },
        "outputId": "7576680c-d8b0-49fa-feaf-b255c045b4f9"
      },
      "source": [
        "#Executar\n",
        "prob.solve()"
      ],
      "execution_count": 35,
      "outputs": [
        {
          "output_type": "execute_result",
          "data": {
            "text/plain": [
              "1"
            ]
          },
          "metadata": {
            "tags": []
          },
          "execution_count": 35
        }
      ]
    },
    {
      "cell_type": "code",
      "metadata": {
        "id": "2brAlM41WCSK",
        "colab_type": "code",
        "colab": {
          "base_uri": "https://localhost:8080/",
          "height": 33
        },
        "outputId": "03421de0-3bc7-4239-a905-3f26c20ac880"
      },
      "source": [
        "#Checar se achou uma solucao otima\n",
        "print('Status: ', LpStatus[prob.status])"
      ],
      "execution_count": 36,
      "outputs": [
        {
          "output_type": "stream",
          "text": [
            "Status:  Optimal\n"
          ],
          "name": "stdout"
        }
      ]
    },
    {
      "cell_type": "code",
      "metadata": {
        "id": "FDQziQXLWScp",
        "colab_type": "code",
        "colab": {
          "base_uri": "https://localhost:8080/",
          "height": 67
        },
        "outputId": "d36ba484-029e-4cc7-c97c-4d3e8769e6da"
      },
      "source": [
        "#Verificar quanto de quais variaveis estao contidas no modelo otimo\n",
        "for v in prob.variables():\n",
        "  if v.varValue>0:\n",
        "    print(v.name,'=',v.varValue)"
      ],
      "execution_count": 37,
      "outputs": [
        {
          "output_type": "stream",
          "text": [
            "Food_Frozen_Corn = 2.1741616\n",
            "Food_Raw_Lettuce_Iceberg = 232.05459\n",
            "Food_Roasted_Chiken = 1.9455068\n"
          ],
          "name": "stdout"
        }
      ]
    },
    {
      "cell_type": "code",
      "metadata": {
        "id": "8x-gFvzmWhBb",
        "colab_type": "code",
        "colab": {
          "base_uri": "https://localhost:8080/",
          "height": 33
        },
        "outputId": "0990b46f-1826-44eb-8d99-bb87a2dd5021"
      },
      "source": [
        "obj = value(prob.objective)\n",
        "print('Total de custo da minha dieta é: \\\n",
        "${}'.format(round(obj,2)))"
      ],
      "execution_count": 39,
      "outputs": [
        {
          "output_type": "stream",
          "text": [
            "Total de custo da minha dieta é: $20.0\n"
          ],
          "name": "stdout"
        }
      ]
    },
    {
      "cell_type": "code",
      "metadata": {
        "id": "503cZOQCXCMa",
        "colab_type": "code",
        "colab": {}
      },
      "source": [
        "#Problema linear inteiro\n",
        "prob = LpProblem('Dieta Perfeita', LpMinimize)\n",
        "food_intenger = LpVariable.dicts('Food', foods_item,0,cat = 'Integer')"
      ],
      "execution_count": 0,
      "outputs": []
    },
    {
      "cell_type": "code",
      "metadata": {
        "id": "y9pxW97bYPYa",
        "colab_type": "code",
        "colab": {
          "base_uri": "https://localhost:8080/",
          "height": 33
        },
        "outputId": "2f6a8b4a-5801-4d6d-dc6e-26db9c2bdb61"
      },
      "source": [
        "#Funcao objetiva\n",
        "prob += lpSum([custo[i]*food_intenger[i] for i in foods_item])\n",
        "#Restricoes de calorias\n",
        "prob += lpSum([calorias[f] * food_intenger[f] for f in foods_item]) >= 800\n",
        "prob += lpSum([calorias[f] * food_intenger[f] for f in foods_item]) <= 1300\n",
        "#Restricoes de Preco\n",
        "prob += lpSum([custo[f] * food_intenger[f] for f in foods_item]) >= 20\n",
        "prob += lpSum([custo[f] * food_intenger[f] for f in foods_item]) <= 35\n",
        "#Restricoes de Gordura\n",
        "prob += lpSum([fat[f] * food_intenger[f] for f in foods_item]) >= 20\n",
        "prob += lpSum([fat[f] * food_intenger[f] for f in foods_item]) <= 50\n",
        "#Restricoes de carboidrato\n",
        "prob += lpSum([carb[f] * food_intenger[f] for f in foods_item]) >= 130\n",
        "prob += lpSum([carb[f] * food_intenger[f] for f in foods_item]) <= 200\n",
        "#Restricoes de Fibra\n",
        "prob += lpSum([fiber[f] * food_intenger[f] for f in foods_item]) >= 60\n",
        "prob += lpSum([fiber[f] * food_intenger[f] for f in foods_item]) <= 125\n",
        "#Restricoes de Fibra\n",
        "prob += lpSum([protein[f] * food_intenger[f] for f in foods_item]) >= 100\n",
        "prob += lpSum([protein[f] * food_intenger[f] for f in foods_item]) <= 150\n",
        "#Executar\n",
        "prob.solve()\n",
        "#Checar se achou uma solucao otima\n",
        "print('Status: ', LpStatus[prob.status])"
      ],
      "execution_count": 44,
      "outputs": [
        {
          "output_type": "stream",
          "text": [
            "Status:  Optimal\n"
          ],
          "name": "stdout"
        }
      ]
    },
    {
      "cell_type": "code",
      "metadata": {
        "id": "uAEDaR6vXbxD",
        "colab_type": "code",
        "colab": {
          "base_uri": "https://localhost:8080/",
          "height": 67
        },
        "outputId": "b9587bd1-b8e0-47ed-8d78-93e9cfa0c7a5"
      },
      "source": [
        "#Verificar quanto de quais variaveis estao contidas no modelo otimo\n",
        "for v in prob.variables():\n",
        "  if v.varValue>0:\n",
        "    print(v.name,'=',v.varValue)"
      ],
      "execution_count": 45,
      "outputs": [
        {
          "output_type": "stream",
          "text": [
            "Food_Frozen_Broccoli = 3.0\n",
            "Food_Raw_Lettuce_Iceberg = 232.0\n",
            "Food_Tofu = 5.0\n"
          ],
          "name": "stdout"
        }
      ]
    },
    {
      "cell_type": "code",
      "metadata": {
        "id": "ChzeBrobcyks",
        "colab_type": "code",
        "colab": {}
      },
      "source": [
        "obj = value(prob.objective)\n",
        "print('Total de custo da minha dieta é: \\\n",
        "${}'.format(round(obj,2)))"
      ],
      "execution_count": 0,
      "outputs": []
    },
    {
      "cell_type": "code",
      "metadata": {
        "id": "p9QAv4h4Y2v7",
        "colab_type": "code",
        "colab": {}
      },
      "source": [
        "#Aumentando a complexidade com restricao inteira\n",
        "prob = LpProblem('Dieta Perfeita', LpMinimize)\n",
        "food_intenger = LpVariable.dicts('Porção', foods_item,0,cat = 'Continuous')"
      ],
      "execution_count": 0,
      "outputs": []
    },
    {
      "cell_type": "code",
      "metadata": {
        "id": "NIU-sGMCZRe2",
        "colab_type": "code",
        "colab": {}
      },
      "source": [
        "#Restricao inteira\n",
        "food_chosen = LpVariable.dicts('Chosen', foods_item,0,1,cat='Integer')"
      ],
      "execution_count": 0,
      "outputs": []
    },
    {
      "cell_type": "code",
      "metadata": {
        "id": "VmSVN3eNaAvu",
        "colab_type": "code",
        "colab": {}
      },
      "source": [
        "#Funcao objetiva\n",
        "prob += lpSum([custo[i]*food_intenger[i] for i in foods_item])\n",
        "#Restricoes de calorias\n",
        "prob += lpSum([calorias[f] * food_intenger[f] for f in foods_item]) >= 800\n",
        "prob += lpSum([calorias[f] * food_intenger[f] for f in foods_item]) <= 1300\n",
        "#Restricoes de Gordura\n",
        "prob += lpSum([fat[f] * food_intenger[f] for f in foods_item]) >= 20\n",
        "prob += lpSum([fat[f] * food_intenger[f] for f in foods_item]) <= 50\n",
        "#Restricoes de carboidrato\n",
        "prob += lpSum([carb[f] * food_intenger[f] for f in foods_item]) >= 130\n",
        "prob += lpSum([carb[f] * food_intenger[f] for f in foods_item]) <= 200\n",
        "#Restricoes de Fibra\n",
        "prob += lpSum([fiber[f] * food_intenger[f] for f in foods_item]) >= 60\n",
        "prob += lpSum([fiber[f] * food_intenger[f] for f in foods_item]) <= 125\n",
        "#Restricoes de Fibra\n",
        "prob += lpSum([protein[f] * food_intenger[f] for f in foods_item]) >= 100\n",
        "prob += lpSum([protein[f] * food_intenger[f] for f in foods_item]) <= 150"
      ],
      "execution_count": 0,
      "outputs": []
    },
    {
      "cell_type": "code",
      "metadata": {
        "id": "i83N26rcaIuu",
        "colab_type": "code",
        "colab": {}
      },
      "source": [
        "#adicionando as resticoes inteiras\n",
        "for f in foods_item:\n",
        "  prob += food_intenger[f]>= food_chosen[f]*0.1\n",
        "  prob += food_intenger[f]<= food_chosen[f]*1e5"
      ],
      "execution_count": 0,
      "outputs": []
    },
    {
      "cell_type": "code",
      "metadata": {
        "id": "WGxNFNJHafnC",
        "colab_type": "code",
        "colab": {}
      },
      "source": [
        "prob += food_chosen['Frozen Broccoli'] + food_chosen['Tofu'] <= 1"
      ],
      "execution_count": 0,
      "outputs": []
    },
    {
      "cell_type": "code",
      "metadata": {
        "id": "EwmNgUy6avT-",
        "colab_type": "code",
        "colab": {}
      },
      "source": [
        "protein_chosen = ['Roasted Chiken','Beef Frankfurter','Turkey Bologna']"
      ],
      "execution_count": 0,
      "outputs": []
    },
    {
      "cell_type": "code",
      "metadata": {
        "id": "RDuqp5mabOZR",
        "colab_type": "code",
        "colab": {}
      },
      "source": [
        "prob += lpSum([food_chosen[p] for p in protein_chosen]) >= 1"
      ],
      "execution_count": 0,
      "outputs": []
    },
    {
      "cell_type": "code",
      "metadata": {
        "id": "Gdt_slu9beZz",
        "colab_type": "code",
        "colab": {}
      },
      "source": [
        "prob.writeLP('Dieta_restrita.txt')"
      ],
      "execution_count": 0,
      "outputs": []
    },
    {
      "cell_type": "code",
      "metadata": {
        "id": "zBhqJEzgbl9M",
        "colab_type": "code",
        "colab": {
          "base_uri": "https://localhost:8080/",
          "height": 33
        },
        "outputId": "d06912cc-414a-42c1-a132-3e80dcd5ed7c"
      },
      "source": [
        "prob.solve()"
      ],
      "execution_count": 80,
      "outputs": [
        {
          "output_type": "execute_result",
          "data": {
            "text/plain": [
              "1"
            ]
          },
          "metadata": {
            "tags": []
          },
          "execution_count": 80
        }
      ]
    },
    {
      "cell_type": "code",
      "metadata": {
        "id": "FfHQCziacR7g",
        "colab_type": "code",
        "colab": {
          "base_uri": "https://localhost:8080/",
          "height": 33
        },
        "outputId": "8321e2ce-123b-4cf0-9b4f-dbb363de2fed"
      },
      "source": [
        "#Checar se achou uma solucao otima\n",
        "print('Status: ', LpStatus[prob.status])"
      ],
      "execution_count": 81,
      "outputs": [
        {
          "output_type": "stream",
          "text": [
            "Status:  Optimal\n"
          ],
          "name": "stdout"
        }
      ]
    },
    {
      "cell_type": "code",
      "metadata": {
        "id": "QUpk5LzncVcK",
        "colab_type": "code",
        "colab": {
          "base_uri": "https://localhost:8080/",
          "height": 84
        },
        "outputId": "079f2ce3-c67d-443f-f12d-764a21c3337f"
      },
      "source": [
        "#Verificar quanto de quais variaveis estao contidas no modelo otimo\n",
        "for v in prob.variables():\n",
        "  if v.varValue>0 and v.name[0]=='P':\n",
        "    print(v.name,'=',v.varValue)"
      ],
      "execution_count": 85,
      "outputs": [
        {
          "output_type": "stream",
          "text": [
            "Porção_Baked_Potatos = 1.2507587\n",
            "Porção_Frozen_Broccoli = 6.5879497\n",
            "Porção_Roasted_Chiken = 0.1\n",
            "Porção_Scrambled_Eggs = 5.7385963\n"
          ],
          "name": "stdout"
        }
      ]
    },
    {
      "cell_type": "code",
      "metadata": {
        "id": "-e3KnTm4cX9y",
        "colab_type": "code",
        "colab": {
          "base_uri": "https://localhost:8080/",
          "height": 33
        },
        "outputId": "2264764a-7955-49c1-e662-ce9ea979ea43"
      },
      "source": [
        "obj = value(prob.objective)\n",
        "print('Total de custo da minha dieta é: \\\n",
        "${}'.format(round(obj,2)))"
      ],
      "execution_count": 83,
      "outputs": [
        {
          "output_type": "stream",
          "text": [
            "Total de custo da minha dieta é: $5.53\n"
          ],
          "name": "stdout"
        }
      ]
    },
    {
      "cell_type": "code",
      "metadata": {
        "id": "1DyyPGSQchT2",
        "colab_type": "code",
        "colab": {}
      },
      "source": [
        ""
      ],
      "execution_count": 0,
      "outputs": []
    }
  ]
}