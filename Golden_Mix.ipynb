{
  "nbformat": 4,
  "nbformat_minor": 0,
  "metadata": {
    "colab": {
      "name": "Golden Mix",
      "version": "0.3.2",
      "provenance": [],
      "collapsed_sections": [],
      "include_colab_link": true
    },
    "kernelspec": {
      "name": "python3",
      "display_name": "Python 3"
    }
  },
  "cells": [
    {
      "cell_type": "markdown",
      "metadata": {
        "id": "view-in-github",
        "colab_type": "text"
      },
      "source": [
        "<a href=\"https://colab.research.google.com/github/arthurvaz05/Python.Script/blob/master/Golden_Mix.ipynb\" target=\"_parent\"><img src=\"https://colab.research.google.com/assets/colab-badge.svg\" alt=\"Open In Colab\"/></a>"
      ]
    },
    {
      "cell_type": "code",
      "metadata": {
        "id": "WhxF6SENUtMy",
        "colab_type": "code",
        "colab": {}
      },
      "source": [
        "!pip install rpy2"
      ],
      "execution_count": 0,
      "outputs": []
    },
    {
      "cell_type": "code",
      "metadata": {
        "id": "oJgbh8rkUyZu",
        "colab_type": "code",
        "colab": {}
      },
      "source": [
        "%load_ext rpy2.ipython"
      ],
      "execution_count": 0,
      "outputs": []
    },
    {
      "cell_type": "code",
      "metadata": {
        "id": "0gI6HLbIrz2B",
        "colab_type": "code",
        "outputId": "2cf58eef-1630-40c6-ba11-7e1d12953531",
        "colab": {
          "base_uri": "https://localhost:8080/",
          "height": 50
        }
      },
      "source": [
        "import pandas as pd\n",
        "import numpy as np\n",
        "import rpy2\n",
        "!pip install -U -q PyDrive\n",
        "from pydrive.auth import GoogleAuth\n",
        "from pydrive.drive import GoogleDrive\n",
        "from google.colab import auth\n",
        "from oauth2client.client import GoogleCredentials"
      ],
      "execution_count": 1,
      "outputs": [
        {
          "output_type": "stream",
          "text": [
            "\u001b[?25l\r\u001b[K     |▎                               | 10kB 17.2MB/s eta 0:00:01\r\u001b[K     |▋                               | 20kB 3.4MB/s eta 0:00:01\r\u001b[K     |█                               | 30kB 4.9MB/s eta 0:00:01\r\u001b[K     |█▎                              | 40kB 3.1MB/s eta 0:00:01\r\u001b[K     |█▋                              | 51kB 3.8MB/s eta 0:00:01\r\u001b[K     |██                              | 61kB 4.5MB/s eta 0:00:01\r\u001b[K     |██▎                             | 71kB 5.2MB/s eta 0:00:01\r\u001b[K     |██▋                             | 81kB 5.9MB/s eta 0:00:01\r\u001b[K     |███                             | 92kB 6.5MB/s eta 0:00:01\r\u001b[K     |███▎                            | 102kB 5.1MB/s eta 0:00:01\r\u001b[K     |███▋                            | 112kB 5.1MB/s eta 0:00:01\r\u001b[K     |████                            | 122kB 5.1MB/s eta 0:00:01\r\u001b[K     |████▎                           | 133kB 5.1MB/s eta 0:00:01\r\u001b[K     |████▋                           | 143kB 5.1MB/s eta 0:00:01\r\u001b[K     |█████                           | 153kB 5.1MB/s eta 0:00:01\r\u001b[K     |█████▎                          | 163kB 5.1MB/s eta 0:00:01\r\u001b[K     |█████▋                          | 174kB 5.1MB/s eta 0:00:01\r\u001b[K     |██████                          | 184kB 5.1MB/s eta 0:00:01\r\u001b[K     |██████▎                         | 194kB 5.1MB/s eta 0:00:01\r\u001b[K     |██████▋                         | 204kB 5.1MB/s eta 0:00:01\r\u001b[K     |███████                         | 215kB 5.1MB/s eta 0:00:01\r\u001b[K     |███████▎                        | 225kB 5.1MB/s eta 0:00:01\r\u001b[K     |███████▋                        | 235kB 5.1MB/s eta 0:00:01\r\u001b[K     |████████                        | 245kB 5.1MB/s eta 0:00:01\r\u001b[K     |████████▎                       | 256kB 5.1MB/s eta 0:00:01\r\u001b[K     |████████▋                       | 266kB 5.1MB/s eta 0:00:01\r\u001b[K     |█████████                       | 276kB 5.1MB/s eta 0:00:01\r\u001b[K     |█████████▎                      | 286kB 5.1MB/s eta 0:00:01\r\u001b[K     |█████████▋                      | 296kB 5.1MB/s eta 0:00:01\r\u001b[K     |██████████                      | 307kB 5.1MB/s eta 0:00:01\r\u001b[K     |██████████▎                     | 317kB 5.1MB/s eta 0:00:01\r\u001b[K     |██████████▋                     | 327kB 5.1MB/s eta 0:00:01\r\u001b[K     |███████████                     | 337kB 5.1MB/s eta 0:00:01\r\u001b[K     |███████████▎                    | 348kB 5.1MB/s eta 0:00:01\r\u001b[K     |███████████▋                    | 358kB 5.1MB/s eta 0:00:01\r\u001b[K     |████████████                    | 368kB 5.1MB/s eta 0:00:01\r\u001b[K     |████████████▎                   | 378kB 5.1MB/s eta 0:00:01\r\u001b[K     |████████████▋                   | 389kB 5.1MB/s eta 0:00:01\r\u001b[K     |█████████████                   | 399kB 5.1MB/s eta 0:00:01\r\u001b[K     |█████████████▎                  | 409kB 5.1MB/s eta 0:00:01\r\u001b[K     |█████████████▋                  | 419kB 5.1MB/s eta 0:00:01\r\u001b[K     |██████████████                  | 430kB 5.1MB/s eta 0:00:01\r\u001b[K     |██████████████▎                 | 440kB 5.1MB/s eta 0:00:01\r\u001b[K     |██████████████▋                 | 450kB 5.1MB/s eta 0:00:01\r\u001b[K     |███████████████                 | 460kB 5.1MB/s eta 0:00:01\r\u001b[K     |███████████████▎                | 471kB 5.1MB/s eta 0:00:01\r\u001b[K     |███████████████▋                | 481kB 5.1MB/s eta 0:00:01\r\u001b[K     |████████████████                | 491kB 5.1MB/s eta 0:00:01\r\u001b[K     |████████████████▎               | 501kB 5.1MB/s eta 0:00:01\r\u001b[K     |████████████████▋               | 512kB 5.1MB/s eta 0:00:01\r\u001b[K     |█████████████████               | 522kB 5.1MB/s eta 0:00:01\r\u001b[K     |█████████████████▎              | 532kB 5.1MB/s eta 0:00:01\r\u001b[K     |█████████████████▋              | 542kB 5.1MB/s eta 0:00:01\r\u001b[K     |██████████████████              | 552kB 5.1MB/s eta 0:00:01\r\u001b[K     |██████████████████▎             | 563kB 5.1MB/s eta 0:00:01\r\u001b[K     |██████████████████▋             | 573kB 5.1MB/s eta 0:00:01\r\u001b[K     |███████████████████             | 583kB 5.1MB/s eta 0:00:01\r\u001b[K     |███████████████████▎            | 593kB 5.1MB/s eta 0:00:01\r\u001b[K     |███████████████████▋            | 604kB 5.1MB/s eta 0:00:01\r\u001b[K     |████████████████████            | 614kB 5.1MB/s eta 0:00:01\r\u001b[K     |████████████████████▎           | 624kB 5.1MB/s eta 0:00:01\r\u001b[K     |████████████████████▋           | 634kB 5.1MB/s eta 0:00:01\r\u001b[K     |█████████████████████           | 645kB 5.1MB/s eta 0:00:01\r\u001b[K     |█████████████████████▎          | 655kB 5.1MB/s eta 0:00:01\r\u001b[K     |█████████████████████▋          | 665kB 5.1MB/s eta 0:00:01\r\u001b[K     |██████████████████████          | 675kB 5.1MB/s eta 0:00:01\r\u001b[K     |██████████████████████▎         | 686kB 5.1MB/s eta 0:00:01\r\u001b[K     |██████████████████████▋         | 696kB 5.1MB/s eta 0:00:01\r\u001b[K     |███████████████████████         | 706kB 5.1MB/s eta 0:00:01\r\u001b[K     |███████████████████████▎        | 716kB 5.1MB/s eta 0:00:01\r\u001b[K     |███████████████████████▋        | 727kB 5.1MB/s eta 0:00:01\r\u001b[K     |████████████████████████        | 737kB 5.1MB/s eta 0:00:01\r\u001b[K     |████████████████████████▎       | 747kB 5.1MB/s eta 0:00:01\r\u001b[K     |████████████████████████▋       | 757kB 5.1MB/s eta 0:00:01\r\u001b[K     |████████████████████████▉       | 768kB 5.1MB/s eta 0:00:01\r\u001b[K     |█████████████████████████▏      | 778kB 5.1MB/s eta 0:00:01\r\u001b[K     |█████████████████████████▌      | 788kB 5.1MB/s eta 0:00:01\r\u001b[K     |█████████████████████████▉      | 798kB 5.1MB/s eta 0:00:01\r\u001b[K     |██████████████████████████▏     | 808kB 5.1MB/s eta 0:00:01\r\u001b[K     |██████████████████████████▌     | 819kB 5.1MB/s eta 0:00:01\r\u001b[K     |██████████████████████████▉     | 829kB 5.1MB/s eta 0:00:01\r\u001b[K     |███████████████████████████▏    | 839kB 5.1MB/s eta 0:00:01\r\u001b[K     |███████████████████████████▌    | 849kB 5.1MB/s eta 0:00:01\r\u001b[K     |███████████████████████████▉    | 860kB 5.1MB/s eta 0:00:01\r\u001b[K     |████████████████████████████▏   | 870kB 5.1MB/s eta 0:00:01\r\u001b[K     |████████████████████████████▌   | 880kB 5.1MB/s eta 0:00:01\r\u001b[K     |████████████████████████████▉   | 890kB 5.1MB/s eta 0:00:01\r\u001b[K     |█████████████████████████████▏  | 901kB 5.1MB/s eta 0:00:01\r\u001b[K     |█████████████████████████████▌  | 911kB 5.1MB/s eta 0:00:01\r\u001b[K     |█████████████████████████████▉  | 921kB 5.1MB/s eta 0:00:01\r\u001b[K     |██████████████████████████████▏ | 931kB 5.1MB/s eta 0:00:01\r\u001b[K     |██████████████████████████████▌ | 942kB 5.1MB/s eta 0:00:01\r\u001b[K     |██████████████████████████████▉ | 952kB 5.1MB/s eta 0:00:01\r\u001b[K     |███████████████████████████████▏| 962kB 5.1MB/s eta 0:00:01\r\u001b[K     |███████████████████████████████▌| 972kB 5.1MB/s eta 0:00:01\r\u001b[K     |███████████████████████████████▉| 983kB 5.1MB/s eta 0:00:01\r\u001b[K     |████████████████████████████████| 993kB 5.1MB/s \n",
            "\u001b[?25h  Building wheel for PyDrive (setup.py) ... \u001b[?25l\u001b[?25hdone\n"
          ],
          "name": "stdout"
        }
      ]
    },
    {
      "cell_type": "code",
      "metadata": {
        "id": "pTlVlK6HmPMn",
        "colab_type": "code",
        "colab": {
          "base_uri": "https://localhost:8080/",
          "height": 121
        },
        "outputId": "d14745be-9cec-410c-b1ae-fdd0c09decca"
      },
      "source": [
        "from google.colab import drive\n",
        "\n",
        "drive.mount('/content/drive/')"
      ],
      "execution_count": 2,
      "outputs": [
        {
          "output_type": "stream",
          "text": [
            "Go to this URL in a browser: https://accounts.google.com/o/oauth2/auth?client_id=947318989803-6bn6qk8qdgf4n4g3pfee6491hc0brc4i.apps.googleusercontent.com&redirect_uri=urn%3Aietf%3Awg%3Aoauth%3A2.0%3Aoob&scope=email%20https%3A%2F%2Fwww.googleapis.com%2Fauth%2Fdocs.test%20https%3A%2F%2Fwww.googleapis.com%2Fauth%2Fdrive%20https%3A%2F%2Fwww.googleapis.com%2Fauth%2Fdrive.photos.readonly%20https%3A%2F%2Fwww.googleapis.com%2Fauth%2Fpeopleapi.readonly&response_type=code\n",
            "\n",
            "Enter your authorization code:\n",
            "··········\n",
            "Mounted at /content/drive/\n"
          ],
          "name": "stdout"
        }
      ]
    },
    {
      "cell_type": "code",
      "metadata": {
        "id": "iUg8m2bFo7Sh",
        "colab_type": "code",
        "colab": {}
      },
      "source": [
        "#verificar os arquivos disponiveis na pasta\n",
        "c = !ls \"/content/drive/My Drive/CCARQSOLAR/Volume\""
      ],
      "execution_count": 0,
      "outputs": []
    },
    {
      "cell_type": "code",
      "metadata": {
        "id": "ZVQ0257AxW7u",
        "colab_type": "code",
        "colab": {}
      },
      "source": [
        "li = []\n",
        "for num in list(range(0,len(c),1)):\n",
        "  li.append(c[num].split('  '))\n",
        "li = sum(li,[])"
      ],
      "execution_count": 0,
      "outputs": []
    },
    {
      "cell_type": "code",
      "metadata": {
        "id": "KTAbfaMV1hhn",
        "colab_type": "code",
        "colab": {}
      },
      "source": [
        "x = pd.Series(li).str.contains('.csv').tolist()\n",
        "x = [i for i, x in enumerate(x) if x]\n",
        "t = [li[i] for i in x]\n",
        "k = [x.replace(' ', '') for x in t]"
      ],
      "execution_count": 0,
      "outputs": []
    },
    {
      "cell_type": "code",
      "metadata": {
        "id": "TlNrjQnavSDB",
        "colab_type": "code",
        "colab": {}
      },
      "source": [
        "def f(x):\n",
        "  x.dropna(inplace=True)\n",
        "  x.drop_duplicates(inplace=True)\n",
        "  return x"
      ],
      "execution_count": 0,
      "outputs": []
    },
    {
      "cell_type": "code",
      "metadata": {
        "id": "uFE6fz_avVMV",
        "colab_type": "code",
        "colab": {}
      },
      "source": [
        "def f2(x):\n",
        "  for num in list(range(0,len(x),1)):\n",
        "    if num ==0:\n",
        "      mes_final = mes[num]\n",
        "    else:\n",
        "      mes_final = pd.concat([mes_final, mes[num]])\n",
        "  return mes_final   "
      ],
      "execution_count": 0,
      "outputs": []
    },
    {
      "cell_type": "code",
      "metadata": {
        "id": "AUbmOAlcuIf0",
        "colab_type": "code",
        "colab": {
          "base_uri": "https://localhost:8080/",
          "height": 50
        },
        "outputId": "1a1435c0-ef3a-476e-ef9b-56508bbac86d"
      },
      "source": [
        "list_mes = pd.Series(k)\n",
        "mes = list_mes.map(lambda x: pd.read_csv('/content/drive/My Drive/CCARQSOLAR/Volume/'+x, delimiter=\";\",encoding='latin-1'))\n",
        "mes = mes.apply(f)\n",
        "mes = f2(mes)"
      ],
      "execution_count": 23,
      "outputs": [
        {
          "output_type": "stream",
          "text": [
            "/usr/local/lib/python3.6/dist-packages/ipykernel_launcher.py:2: DtypeWarning: Columns (2) have mixed types. Specify dtype option on import or set low_memory=False.\n",
            "  \n"
          ],
          "name": "stderr"
        }
      ]
    },
    {
      "cell_type": "code",
      "metadata": {
        "id": "CxwgBlOSDBkp",
        "colab_type": "code",
        "colab": {}
      },
      "source": [
        "import datetime as dt\n",
        "mes['Data'] = pd.to_datetime(mes['Data'])\n",
        "\n",
        "base_2018 = mes[mes['Data'].dt.year == 2018]\n",
        "base_julho = mes[mes['Data'].dt.year != 2018]"
      ],
      "execution_count": 0,
      "outputs": []
    },
    {
      "cell_type": "code",
      "metadata": {
        "id": "2B6X-izn07_s",
        "colab_type": "code",
        "colab": {}
      },
      "source": [
        "clientes = pd.read_csv('/content/drive/My Drive/CCARQSOLAR/Volume/Meta Base/Diimensao Cliente v3.csv', delimiter=\";\",encoding='latin-1')"
      ],
      "execution_count": 0,
      "outputs": []
    },
    {
      "cell_type": "code",
      "metadata": {
        "id": "tDldCVQ43ZIW",
        "colab_type": "code",
        "colab": {}
      },
      "source": [
        "#SEPARAR AS CIDADES DOS ESTADOS EM DUAS COLUNAS\n",
        "#teste = clientes['CIDADE'].map(lambda x: x.split('/'))\n",
        "#clientes['ESTADO'] = teste.map(lambda x: x[1])\n",
        "#clientes['CIDADE'] = teste.map(lambda x: x[0])"
      ],
      "execution_count": 0,
      "outputs": []
    },
    {
      "cell_type": "code",
      "metadata": {
        "id": "p6bhfaP14QgG",
        "colab_type": "code",
        "colab": {}
      },
      "source": [
        "#CARREGAR AS BASES DE DADOS DEMOGRAFICOS E SOCIAIS DAS REGIOES\n",
        "ipc_maps = pd.read_csv('/content/drive/My Drive/CCARQSOLAR/IPC Maps/IPCMaps_2018_Bairro_ADJ.csv', delimiter=\";\",encoding='latin-1')\n",
        "ipc_maps_2 = pd.read_csv('/content/drive/My Drive/CCARQSOLAR/IPC Maps/ipc2018_nao_alcoolicas_bairros_ADJ.csv', delimiter=\";\",encoding='latin-1')"
      ],
      "execution_count": 0,
      "outputs": []
    },
    {
      "cell_type": "code",
      "metadata": {
        "id": "x2XYFkxb6Y4w",
        "colab_type": "code",
        "colab": {}
      },
      "source": [
        "df = pd.DataFrame( {'name':pd.Series(clientes['CIDADE']).unique() } )\n",
        "\n",
        "from geopy.geocoders import Nominatim\n",
        "geolocator = Nominatim(user_agent=\"specify_your_app_name_here\")\n",
        "\n",
        "from geopy.extra.rate_limiter import RateLimiter\n",
        "geocode = RateLimiter(geolocator.geocode, min_delay_seconds=1)\n",
        "df['location'] = df['name'].apply(geocode)\n",
        "\n",
        "df['point'] = df['location'].apply(lambda loc: tuple(loc.point) if loc else None)\n",
        "\n",
        "def separar_lat(x):\n",
        "  lat,long,x = x\n",
        "  return lat\n",
        "\n",
        "def separar_long(x):\n",
        "  lat,long,x = x\n",
        "  return long\n",
        "\n",
        "clientes['lat'] = df['point'].apply(separar_lat)\n",
        "clientes['long'] = df['point'].apply(separar_long)"
      ],
      "execution_count": 0,
      "outputs": []
    },
    {
      "cell_type": "code",
      "metadata": {
        "id": "_0UVcE7oCN_a",
        "colab_type": "code",
        "colab": {}
      },
      "source": [
        "clientes['CIDADE'] = clientes['CIDADE'].map(lambda x: x.upper())\n",
        "clientes['BAIRRO'] = clientes['BAIRRO'].map(lambda x: x.replace(\" \",\"\"))\n",
        "clientes['CIDADE'] = clientes['CIDADE'].map(lambda x: x.replace(\" \",\"\"))\n",
        "ipc_maps['MUNICIPIO'] = ipc_maps['MUNICIPIO'].map(lambda x: x.replace(\" \",\"\"))\n",
        "ipc_maps['BAIRRO'] = ipc_maps['BAIRRO'].map(lambda x: x.replace(\" \",\"\"))\n",
        "#CRIAR A CHAVE PARA JOIN DAS BASES DE CLIENTES E INFO DAS REGIOES\n",
        "ipc_maps['KEY'] = ipc_maps['BAIRRO'] +'_'+ ipc_maps['MUNICIPIO'] + '_' + ipc_maps['UF']\n",
        "clientes['KEY'] = clientes['BAIRRO'] + '_' + clientes['CIDADE'] + '_' + clientes['ESTADO']\n",
        "cluster = pd.merge(clientes,ipc_maps,on ='KEY')"
      ],
      "execution_count": 0,
      "outputs": []
    },
    {
      "cell_type": "code",
      "metadata": {
        "id": "JpS7Z9c3L7OK",
        "colab_type": "code",
        "colab": {}
      },
      "source": [
        "#TRANSFORMAR OS NUMEROS DE CHECKOUT EM DUMMIES\n",
        "dummy = pd.get_dummies(cluster['SUBCANAL'])\n",
        "cluster = pd.concat([cluster, dummy], axis=1)"
      ],
      "execution_count": 0,
      "outputs": []
    },
    {
      "cell_type": "code",
      "metadata": {
        "id": "3iSfyyhAsN75",
        "colab_type": "code",
        "colab": {}
      },
      "source": [
        "def replace_comma(x):\n",
        "    try: \n",
        "        return x.replace(',', '.')\n",
        "    except AttributeError:\n",
        "        return x"
      ],
      "execution_count": 0,
      "outputs": []
    },
    {
      "cell_type": "code",
      "metadata": {
        "id": "jRUgh8OzQ4CN",
        "colab_type": "code",
        "colab": {}
      },
      "source": [
        "cluster.fillna(0, inplace = True)\n",
        "var = cluster.loc[:,['LITORAL','INTERIOR','CAPITAL',\n",
        "       'Sexo_Masculina', 'Sexo_Feminina', 'Masc_0.a.17', 'Masc_18.a.24',\n",
        "       'Masc_25.a.29', 'Masc_30.a.39', 'Masc_40.e.mais', 'Fem_0.a.17',\n",
        "       'Fem_18.a.24', 'Fem_25.a.29', 'Fem_30.a.39', 'Fem_40.e.mais',\n",
        "       'Domicilios_Urbanos', 'Domicilios_Rurais',\n",
        "       'CLASSE_A', 'CLASSE_B', 'CLASSE_C', 'CLASSE_D', 'Consumo_Urbano',\n",
        "       'Consumo_Rural', 'IPC', 'Densidade.Demográfica', 'ALIMENTACAO',\n",
        "       'COMERCIO.ATACADISTA', 'COMERCIO.VAREJISTA',\n",
        "       'Alimentacao_Domicilio_CLASSE_A', 'Alimentacao_Domicilio_CLASSE_B',\n",
        "       'Alimentacao_Domicilio_CLASSE_C', 'Alimentacao_Domicilio_CLASSE_D',\n",
        "       'Alimentacao_Domicilio_CLASSE_TOTAL',\n",
        "       'Alimentacao_FORA_Domicilio_CLASSE_A',\n",
        "       'Alimentacao_FORA_Domicilio_CLASSE_B',\n",
        "       'Alimentacao_FORA_Domicilio_CLASSE_C',\n",
        "       'Alimentacao_FORA_Domicilio_CLASSE_D',\n",
        "       'Alimentacao_FORA_Domicilio_CLASSE_TOTAL', 'BEBIDAS_CLASSE_A',\n",
        "       'BEBIDAS_CLASSE_B', 'BEBIDAS_CLASSE_C', 'BEBIDAS_CLASSE_D',\n",
        "       'BEBIDAS_CLASSE_TOTAL', 'DESPESA_TOTAL_CLASSE_A',\n",
        "       'DESPESA_TOTAL_CLASSE_B', 'DESPESA_TOTAL_CLASSE_C',\n",
        "       'DESPESA_TOTAL_CLASSE_D', 'DESPESA_TOTAL_CLASSE_TOTAL', 'CONSUMO_RURAL',\n",
        "       'CONSUMO_TOTAL', 'COMPRA CENTRALIZADA', 'HIPERMERCADO PARA ASSOCIADOS',\n",
        "       'HIPERMERCADOS', 'SUPERM ASSO 10 A 19 CHECK-OUTS',\n",
        "       'SUPERM ASSO 20 A 29 CHECK-OUTS', 'SUPERM ASSO 5 A 9 CHECK-OUTS',\n",
        "       'SUPERM DE 10 A 19 CHECK-OUTS', 'SUPERM DE 20 A 29 CHECK-OUTS',\n",
        "       'SUPERM DE 30 A 50 CHECK-OUTS', 'SUPERM DE 5 A 9 CHECK-OUTS']]\n",
        "var = var.applymap(lambda x: replace_comma(x))"
      ],
      "execution_count": 0,
      "outputs": []
    },
    {
      "cell_type": "code",
      "metadata": {
        "id": "gtbxZPY6eEyo",
        "colab_type": "code",
        "colab": {}
      },
      "source": [
        "x = var.values\n",
        "y = cluster.loc[:,['RAZAO_SOCIAL']].values"
      ],
      "execution_count": 0,
      "outputs": []
    },
    {
      "cell_type": "code",
      "metadata": {
        "id": "Rfl0XkSthI8q",
        "colab_type": "code",
        "colab": {}
      },
      "source": [
        "from sklearn.preprocessing import StandardScaler\n",
        "x = StandardScaler().fit_transform(x)\n",
        "from sklearn.decomposition import PCA\n",
        "pca = PCA()"
      ],
      "execution_count": 0,
      "outputs": []
    },
    {
      "cell_type": "code",
      "metadata": {
        "id": "MkZmT-ISyPbH",
        "colab_type": "code",
        "colab": {}
      },
      "source": [
        "principalComponents = pca.fit_transform(x)"
      ],
      "execution_count": 0,
      "outputs": []
    },
    {
      "cell_type": "code",
      "metadata": {
        "id": "cbULHGyA-Ffz",
        "colab_type": "code",
        "colab": {}
      },
      "source": [
        "principalComponents_2d = pd.DataFrame(principalComponents)\n",
        "principalComponents_2d.index = cluster.index\n",
        "#principalComponents_2d.columns = []\n",
        "principalComponents_2d.head()"
      ],
      "execution_count": 0,
      "outputs": []
    },
    {
      "cell_type": "code",
      "metadata": {
        "id": "5AMag8y3_fiC",
        "colab_type": "code",
        "colab": {}
      },
      "source": [
        "print(pca.explained_variance_ratio_) "
      ],
      "execution_count": 0,
      "outputs": []
    },
    {
      "cell_type": "code",
      "metadata": {
        "id": "M7zUNr2W_x3n",
        "colab_type": "code",
        "colab": {}
      },
      "source": [
        "sum(pca.explained_variance_ratio_[0:23])"
      ],
      "execution_count": 0,
      "outputs": []
    },
    {
      "cell_type": "code",
      "metadata": {
        "id": "2IJnmDhFAknp",
        "colab_type": "code",
        "colab": {}
      },
      "source": [
        "pca = PCA(n_components=23)\n",
        "principalComponents = pca.fit_transform(x)\n",
        "principalComponents_2d = pd.DataFrame(principalComponents)\n",
        "principalComponents_2d.index = cluster.index\n",
        "principalComponents_2d.columns = ['PC1','PC2','PC3','PC4','PC5','PC6','PC7','PC8','PC9','PC10','PC11','PC12','PC13','PC14','PC15','PC16','PC17','PC18','PC19','PC20','PC21','PC22','PC23']\n",
        "principalComponents_2d.head()"
      ],
      "execution_count": 0,
      "outputs": []
    },
    {
      "cell_type": "code",
      "metadata": {
        "id": "XKhmb-yhBtSA",
        "colab_type": "code",
        "outputId": "25f40b9e-7475-4f11-ed1f-fbba3a5d1a77",
        "colab": {
          "base_uri": "https://localhost:8080/",
          "height": 34
        }
      },
      "source": [
        "sum(pca.explained_variance_ratio_)"
      ],
      "execution_count": 0,
      "outputs": [
        {
          "output_type": "execute_result",
          "data": {
            "text/plain": [
              "0.8012513423717325"
            ]
          },
          "metadata": {
            "tags": []
          },
          "execution_count": 47
        }
      ]
    },
    {
      "cell_type": "code",
      "metadata": {
        "id": "l0hXcJ2wyItT",
        "colab_type": "code",
        "colab": {}
      },
      "source": [
        "principalDf = pd.DataFrame(principalComponents)"
      ],
      "execution_count": 0,
      "outputs": []
    },
    {
      "cell_type": "code",
      "metadata": {
        "id": "LK_OZ2R1yYSP",
        "colab_type": "code",
        "colab": {}
      },
      "source": [
        "from sklearn.cluster import KMeans\n",
        "\n",
        "kmeans = KMeans(n_clusters=6)\n",
        "\n",
        "clusters = kmeans.fit(principalDf)"
      ],
      "execution_count": 0,
      "outputs": []
    },
    {
      "cell_type": "code",
      "metadata": {
        "id": "vVzZqikAzSPB",
        "colab_type": "code",
        "colab": {}
      },
      "source": [
        "resultado = pd.concat([cluster.loc[:,['RAZAO_SOCIAL']], var], axis=1)\n",
        "resultado['Cluster'] = clusters.labels_"
      ],
      "execution_count": 0,
      "outputs": []
    },
    {
      "cell_type": "code",
      "metadata": {
        "id": "L8VLZLCVzrwe",
        "colab_type": "code",
        "outputId": "bae2df7a-40fc-4721-e801-ded0d6737be3",
        "colab": {
          "base_uri": "https://localhost:8080/",
          "height": 467
        }
      },
      "source": [
        "resultado.head()"
      ],
      "execution_count": 0,
      "outputs": [
        {
          "output_type": "execute_result",
          "data": {
            "text/html": [
              "<div>\n",
              "<style scoped>\n",
              "    .dataframe tbody tr th:only-of-type {\n",
              "        vertical-align: middle;\n",
              "    }\n",
              "\n",
              "    .dataframe tbody tr th {\n",
              "        vertical-align: top;\n",
              "    }\n",
              "\n",
              "    .dataframe thead th {\n",
              "        text-align: right;\n",
              "    }\n",
              "</style>\n",
              "<table border=\"1\" class=\"dataframe\">\n",
              "  <thead>\n",
              "    <tr style=\"text-align: right;\">\n",
              "      <th></th>\n",
              "      <th>RAZAO_SOCIAL</th>\n",
              "      <th>LITORAL</th>\n",
              "      <th>INTERIOR</th>\n",
              "      <th>CAPITAL</th>\n",
              "      <th>Sexo_Masculina</th>\n",
              "      <th>Sexo_Feminina</th>\n",
              "      <th>Masc_0.a.17</th>\n",
              "      <th>Masc_18.a.24</th>\n",
              "      <th>Masc_25.a.29</th>\n",
              "      <th>Masc_30.a.39</th>\n",
              "      <th>Masc_40.e.mais</th>\n",
              "      <th>Fem_0.a.17</th>\n",
              "      <th>Fem_18.a.24</th>\n",
              "      <th>Fem_25.a.29</th>\n",
              "      <th>Fem_30.a.39</th>\n",
              "      <th>Fem_40.e.mais</th>\n",
              "      <th>Domicilios_Urbanos</th>\n",
              "      <th>Domicilios_Rurais</th>\n",
              "      <th>CLASSE_A</th>\n",
              "      <th>CLASSE_B</th>\n",
              "      <th>CLASSE_C</th>\n",
              "      <th>CLASSE_D</th>\n",
              "      <th>Consumo_Urbano</th>\n",
              "      <th>Consumo_Rural</th>\n",
              "      <th>IPC</th>\n",
              "      <th>Densidade.Demográfica</th>\n",
              "      <th>ALIMENTACAO</th>\n",
              "      <th>COMERCIO.ATACADISTA</th>\n",
              "      <th>COMERCIO.VAREJISTA</th>\n",
              "      <th>Alimentacao_Domicilio_CLASSE_A</th>\n",
              "      <th>Alimentacao_Domicilio_CLASSE_B</th>\n",
              "      <th>Alimentacao_Domicilio_CLASSE_C</th>\n",
              "      <th>Alimentacao_Domicilio_CLASSE_D</th>\n",
              "      <th>Alimentacao_Domicilio_CLASSE_TOTAL</th>\n",
              "      <th>Alimentacao_FORA_Domicilio_CLASSE_A</th>\n",
              "      <th>Alimentacao_FORA_Domicilio_CLASSE_B</th>\n",
              "      <th>Alimentacao_FORA_Domicilio_CLASSE_C</th>\n",
              "      <th>Alimentacao_FORA_Domicilio_CLASSE_D</th>\n",
              "      <th>Alimentacao_FORA_Domicilio_CLASSE_TOTAL</th>\n",
              "      <th>BEBIDAS_CLASSE_A</th>\n",
              "      <th>BEBIDAS_CLASSE_B</th>\n",
              "      <th>BEBIDAS_CLASSE_C</th>\n",
              "      <th>BEBIDAS_CLASSE_D</th>\n",
              "      <th>BEBIDAS_CLASSE_TOTAL</th>\n",
              "      <th>DESPESA_TOTAL_CLASSE_A</th>\n",
              "      <th>DESPESA_TOTAL_CLASSE_B</th>\n",
              "      <th>DESPESA_TOTAL_CLASSE_C</th>\n",
              "      <th>DESPESA_TOTAL_CLASSE_D</th>\n",
              "      <th>DESPESA_TOTAL_CLASSE_TOTAL</th>\n",
              "      <th>CONSUMO_RURAL</th>\n",
              "      <th>CONSUMO_TOTAL</th>\n",
              "      <th>COMPRA CENTRALIZADA</th>\n",
              "      <th>HIPERMERCADO PARA ASSOCIADOS</th>\n",
              "      <th>HIPERMERCADOS</th>\n",
              "      <th>SUPERM ASSO 10 A 19 CHECK-OUTS</th>\n",
              "      <th>SUPERM ASSO 20 A 29 CHECK-OUTS</th>\n",
              "      <th>SUPERM ASSO 5 A 9 CHECK-OUTS</th>\n",
              "      <th>SUPERM DE 10 A 19 CHECK-OUTS</th>\n",
              "      <th>SUPERM DE 20 A 29 CHECK-OUTS</th>\n",
              "      <th>SUPERM DE 30 A 50 CHECK-OUTS</th>\n",
              "      <th>SUPERM DE 5 A 9 CHECK-OUTS</th>\n",
              "      <th>Cluster</th>\n",
              "    </tr>\n",
              "  </thead>\n",
              "  <tbody>\n",
              "    <tr>\n",
              "      <th>0</th>\n",
              "      <td>MR SUPERMERCADOS LTDA</td>\n",
              "      <td>0.0</td>\n",
              "      <td>1.0</td>\n",
              "      <td>0.0</td>\n",
              "      <td>4644</td>\n",
              "      <td>5216</td>\n",
              "      <td>927</td>\n",
              "      <td>1800</td>\n",
              "      <td>1200</td>\n",
              "      <td>655</td>\n",
              "      <td>2077</td>\n",
              "      <td>909</td>\n",
              "      <td>1940</td>\n",
              "      <td>1393</td>\n",
              "      <td>676</td>\n",
              "      <td>2665</td>\n",
              "      <td>3839</td>\n",
              "      <td>1</td>\n",
              "      <td>301</td>\n",
              "      <td>701</td>\n",
              "      <td>1631</td>\n",
              "      <td>1124</td>\n",
              "      <td>5663</td>\n",
              "      <td>1</td>\n",
              "      <td>0.00106</td>\n",
              "      <td>3892</td>\n",
              "      <td>177</td>\n",
              "      <td>1</td>\n",
              "      <td>1028</td>\n",
              "      <td>4036</td>\n",
              "      <td>1054</td>\n",
              "      <td>2761</td>\n",
              "      <td>498</td>\n",
              "      <td>6226</td>\n",
              "      <td>3966</td>\n",
              "      <td>7421</td>\n",
              "      <td>6918</td>\n",
              "      <td>3564</td>\n",
              "      <td>2879</td>\n",
              "      <td>3359</td>\n",
              "      <td>2391</td>\n",
              "      <td>2319</td>\n",
              "      <td>7176</td>\n",
              "      <td>5800</td>\n",
              "      <td>4019</td>\n",
              "      <td>2333</td>\n",
              "      <td>996</td>\n",
              "      <td>5214</td>\n",
              "      <td>5713</td>\n",
              "      <td>1</td>\n",
              "      <td>5747</td>\n",
              "      <td>0</td>\n",
              "      <td>0</td>\n",
              "      <td>0</td>\n",
              "      <td>0</td>\n",
              "      <td>0</td>\n",
              "      <td>0</td>\n",
              "      <td>1</td>\n",
              "      <td>0</td>\n",
              "      <td>0</td>\n",
              "      <td>0</td>\n",
              "      <td>5</td>\n",
              "    </tr>\n",
              "    <tr>\n",
              "      <th>1</th>\n",
              "      <td>ATACADAO BOM E BARATO SUPERMER</td>\n",
              "      <td>0.0</td>\n",
              "      <td>1.0</td>\n",
              "      <td>0.0</td>\n",
              "      <td>434</td>\n",
              "      <td>637</td>\n",
              "      <td>1836</td>\n",
              "      <td>640</td>\n",
              "      <td>436</td>\n",
              "      <td>1123</td>\n",
              "      <td>2849</td>\n",
              "      <td>1803</td>\n",
              "      <td>884</td>\n",
              "      <td>428</td>\n",
              "      <td>1195</td>\n",
              "      <td>3539</td>\n",
              "      <td>272</td>\n",
              "      <td>1</td>\n",
              "      <td>505</td>\n",
              "      <td>1150</td>\n",
              "      <td>2563</td>\n",
              "      <td>1611</td>\n",
              "      <td>4951</td>\n",
              "      <td>1</td>\n",
              "      <td>0.00194</td>\n",
              "      <td>4642</td>\n",
              "      <td>154</td>\n",
              "      <td>510</td>\n",
              "      <td>52</td>\n",
              "      <td>5265</td>\n",
              "      <td>4115</td>\n",
              "      <td>5183</td>\n",
              "      <td>2703</td>\n",
              "      <td>834</td>\n",
              "      <td>14</td>\n",
              "      <td>687</td>\n",
              "      <td>620</td>\n",
              "      <td>5729</td>\n",
              "      <td>5249</td>\n",
              "      <td>4669</td>\n",
              "      <td>4426</td>\n",
              "      <td>4591</td>\n",
              "      <td>1793</td>\n",
              "      <td>8033</td>\n",
              "      <td>977</td>\n",
              "      <td>4310</td>\n",
              "      <td>3275</td>\n",
              "      <td>630</td>\n",
              "      <td>7838</td>\n",
              "      <td>1</td>\n",
              "      <td>7896</td>\n",
              "      <td>0</td>\n",
              "      <td>0</td>\n",
              "      <td>0</td>\n",
              "      <td>0</td>\n",
              "      <td>0</td>\n",
              "      <td>0</td>\n",
              "      <td>0</td>\n",
              "      <td>0</td>\n",
              "      <td>0</td>\n",
              "      <td>1</td>\n",
              "      <td>2</td>\n",
              "    </tr>\n",
              "    <tr>\n",
              "      <th>2</th>\n",
              "      <td>BOMPRECO SUPERMERCADOS DO NORD</td>\n",
              "      <td>0.0</td>\n",
              "      <td>1.0</td>\n",
              "      <td>0.0</td>\n",
              "      <td>434</td>\n",
              "      <td>637</td>\n",
              "      <td>1836</td>\n",
              "      <td>640</td>\n",
              "      <td>436</td>\n",
              "      <td>1123</td>\n",
              "      <td>2849</td>\n",
              "      <td>1803</td>\n",
              "      <td>884</td>\n",
              "      <td>428</td>\n",
              "      <td>1195</td>\n",
              "      <td>3539</td>\n",
              "      <td>272</td>\n",
              "      <td>1</td>\n",
              "      <td>505</td>\n",
              "      <td>1150</td>\n",
              "      <td>2563</td>\n",
              "      <td>1611</td>\n",
              "      <td>4951</td>\n",
              "      <td>1</td>\n",
              "      <td>0.00194</td>\n",
              "      <td>4642</td>\n",
              "      <td>154</td>\n",
              "      <td>510</td>\n",
              "      <td>52</td>\n",
              "      <td>5265</td>\n",
              "      <td>4115</td>\n",
              "      <td>5183</td>\n",
              "      <td>2703</td>\n",
              "      <td>834</td>\n",
              "      <td>14</td>\n",
              "      <td>687</td>\n",
              "      <td>620</td>\n",
              "      <td>5729</td>\n",
              "      <td>5249</td>\n",
              "      <td>4669</td>\n",
              "      <td>4426</td>\n",
              "      <td>4591</td>\n",
              "      <td>1793</td>\n",
              "      <td>8033</td>\n",
              "      <td>977</td>\n",
              "      <td>4310</td>\n",
              "      <td>3275</td>\n",
              "      <td>630</td>\n",
              "      <td>7838</td>\n",
              "      <td>1</td>\n",
              "      <td>7896</td>\n",
              "      <td>0</td>\n",
              "      <td>0</td>\n",
              "      <td>0</td>\n",
              "      <td>0</td>\n",
              "      <td>0</td>\n",
              "      <td>1</td>\n",
              "      <td>0</td>\n",
              "      <td>0</td>\n",
              "      <td>0</td>\n",
              "      <td>0</td>\n",
              "      <td>2</td>\n",
              "    </tr>\n",
              "    <tr>\n",
              "      <th>3</th>\n",
              "      <td>ATACADAO BOM E BARATO SUPERMER</td>\n",
              "      <td>0.0</td>\n",
              "      <td>1.0</td>\n",
              "      <td>0.0</td>\n",
              "      <td>434</td>\n",
              "      <td>637</td>\n",
              "      <td>1836</td>\n",
              "      <td>640</td>\n",
              "      <td>436</td>\n",
              "      <td>1123</td>\n",
              "      <td>2849</td>\n",
              "      <td>1803</td>\n",
              "      <td>884</td>\n",
              "      <td>428</td>\n",
              "      <td>1195</td>\n",
              "      <td>3539</td>\n",
              "      <td>272</td>\n",
              "      <td>1</td>\n",
              "      <td>505</td>\n",
              "      <td>1150</td>\n",
              "      <td>2563</td>\n",
              "      <td>1611</td>\n",
              "      <td>4951</td>\n",
              "      <td>1</td>\n",
              "      <td>0.00194</td>\n",
              "      <td>4642</td>\n",
              "      <td>154</td>\n",
              "      <td>510</td>\n",
              "      <td>52</td>\n",
              "      <td>5265</td>\n",
              "      <td>4115</td>\n",
              "      <td>5183</td>\n",
              "      <td>2703</td>\n",
              "      <td>834</td>\n",
              "      <td>14</td>\n",
              "      <td>687</td>\n",
              "      <td>620</td>\n",
              "      <td>5729</td>\n",
              "      <td>5249</td>\n",
              "      <td>4669</td>\n",
              "      <td>4426</td>\n",
              "      <td>4591</td>\n",
              "      <td>1793</td>\n",
              "      <td>8033</td>\n",
              "      <td>977</td>\n",
              "      <td>4310</td>\n",
              "      <td>3275</td>\n",
              "      <td>630</td>\n",
              "      <td>7838</td>\n",
              "      <td>1</td>\n",
              "      <td>7896</td>\n",
              "      <td>0</td>\n",
              "      <td>0</td>\n",
              "      <td>0</td>\n",
              "      <td>0</td>\n",
              "      <td>0</td>\n",
              "      <td>0</td>\n",
              "      <td>0</td>\n",
              "      <td>0</td>\n",
              "      <td>0</td>\n",
              "      <td>1</td>\n",
              "      <td>2</td>\n",
              "    </tr>\n",
              "    <tr>\n",
              "      <th>4</th>\n",
              "      <td>BOMPRECO SUPERMERCADOS DO NORD</td>\n",
              "      <td>0.0</td>\n",
              "      <td>1.0</td>\n",
              "      <td>0.0</td>\n",
              "      <td>434</td>\n",
              "      <td>637</td>\n",
              "      <td>1836</td>\n",
              "      <td>640</td>\n",
              "      <td>436</td>\n",
              "      <td>1123</td>\n",
              "      <td>2849</td>\n",
              "      <td>1803</td>\n",
              "      <td>884</td>\n",
              "      <td>428</td>\n",
              "      <td>1195</td>\n",
              "      <td>3539</td>\n",
              "      <td>272</td>\n",
              "      <td>1</td>\n",
              "      <td>505</td>\n",
              "      <td>1150</td>\n",
              "      <td>2563</td>\n",
              "      <td>1611</td>\n",
              "      <td>4951</td>\n",
              "      <td>1</td>\n",
              "      <td>0.00194</td>\n",
              "      <td>4642</td>\n",
              "      <td>154</td>\n",
              "      <td>510</td>\n",
              "      <td>52</td>\n",
              "      <td>5265</td>\n",
              "      <td>4115</td>\n",
              "      <td>5183</td>\n",
              "      <td>2703</td>\n",
              "      <td>834</td>\n",
              "      <td>14</td>\n",
              "      <td>687</td>\n",
              "      <td>620</td>\n",
              "      <td>5729</td>\n",
              "      <td>5249</td>\n",
              "      <td>4669</td>\n",
              "      <td>4426</td>\n",
              "      <td>4591</td>\n",
              "      <td>1793</td>\n",
              "      <td>8033</td>\n",
              "      <td>977</td>\n",
              "      <td>4310</td>\n",
              "      <td>3275</td>\n",
              "      <td>630</td>\n",
              "      <td>7838</td>\n",
              "      <td>1</td>\n",
              "      <td>7896</td>\n",
              "      <td>0</td>\n",
              "      <td>0</td>\n",
              "      <td>0</td>\n",
              "      <td>0</td>\n",
              "      <td>0</td>\n",
              "      <td>0</td>\n",
              "      <td>1</td>\n",
              "      <td>0</td>\n",
              "      <td>0</td>\n",
              "      <td>0</td>\n",
              "      <td>2</td>\n",
              "    </tr>\n",
              "  </tbody>\n",
              "</table>\n",
              "</div>"
            ],
            "text/plain": [
              "                     RAZAO_SOCIAL  LITORAL  ...  SUPERM DE 5 A 9 CHECK-OUTS  Cluster\n",
              "0  MR SUPERMERCADOS LTDA               0.0  ...                           0        5\n",
              "1  ATACADAO BOM E BARATO SUPERMER      0.0  ...                           1        2\n",
              "2  BOMPRECO SUPERMERCADOS DO NORD      0.0  ...                           0        2\n",
              "3  ATACADAO BOM E BARATO SUPERMER      0.0  ...                           1        2\n",
              "4  BOMPRECO SUPERMERCADOS DO NORD      0.0  ...                           0        2\n",
              "\n",
              "[5 rows x 62 columns]"
            ]
          },
          "metadata": {
            "tags": []
          },
          "execution_count": 51
        }
      ]
    },
    {
      "cell_type": "code",
      "metadata": {
        "id": "1TtpdiPn00m8",
        "colab_type": "code",
        "colab": {}
      },
      "source": [
        "from google.colab import files\n",
        "resultado.to_csv('filename.csv') \n",
        "files.download('filename.csv')"
      ],
      "execution_count": 0,
      "outputs": []
    },
    {
      "cell_type": "code",
      "metadata": {
        "id": "k5yqHuNoSXHs",
        "colab_type": "code",
        "colab": {}
      },
      "source": [
        ""
      ],
      "execution_count": 0,
      "outputs": []
    }
  ]
}